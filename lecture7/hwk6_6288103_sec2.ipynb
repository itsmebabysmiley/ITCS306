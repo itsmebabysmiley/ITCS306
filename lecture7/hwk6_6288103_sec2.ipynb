{
 "metadata": {
  "language_info": {
   "codemirror_mode": {
    "name": "ipython",
    "version": 3
   },
   "file_extension": ".py",
   "mimetype": "text/x-python",
   "name": "python",
   "nbconvert_exporter": "python",
   "pygments_lexer": "ipython3",
   "version": "3.8.6-final"
  },
  "orig_nbformat": 2,
  "kernelspec": {
   "name": "Python 3.8.6 64-bit",
   "display_name": "Python 3.8.6 64-bit",
   "metadata": {
    "interpreter": {
     "hash": "c4d2db86565210e44e1312e025fd2a01c5965d45dad733b18a9ee28031514e1f"
    }
   }
  }
 },
 "nbformat": 4,
 "nbformat_minor": 2,
 "cells": [
  {
   "cell_type": "code",
   "execution_count": 33,
   "metadata": {},
   "outputs": [],
   "source": [
    "import numpy as np"
   ]
  },
  {
   "source": [
    "## Task1"
   ],
   "cell_type": "markdown",
   "metadata": {}
  },
  {
   "cell_type": "code",
   "execution_count": 34,
   "metadata": {
    "tags": []
   },
   "outputs": [
    {
     "output_type": "stream",
     "name": "stdout",
     "text": [
      "[[ 2  1  1 10]\n [ 3  2  3 18]\n [ 1  4  9 16]]\n"
     ]
    }
   ],
   "source": [
    "a = np.matrix([[2,1,1,10],\n",
    "             [3,2,3,18],\n",
    "             [1,4,9,16]])\n",
    "print(a)"
   ]
  },
  {
   "cell_type": "code",
   "execution_count": 35,
   "metadata": {},
   "outputs": [],
   "source": [
    "# 1x3 = eq4\n",
    "eq4 = a[0] * 3"
   ]
  },
  {
   "cell_type": "code",
   "execution_count": 36,
   "metadata": {},
   "outputs": [],
   "source": [
    "a = np.append(a,eq4,axis=0)"
   ]
  },
  {
   "cell_type": "code",
   "execution_count": 37,
   "metadata": {},
   "outputs": [],
   "source": [
    "#eq4-eq2 =  eq5\n",
    "eq5 = eq4-a[1]"
   ]
  },
  {
   "cell_type": "code",
   "execution_count": 38,
   "metadata": {},
   "outputs": [],
   "source": [
    "a = np.append(a,eq5,axis=0)"
   ]
  },
  {
   "cell_type": "code",
   "execution_count": 39,
   "metadata": {},
   "outputs": [],
   "source": [
    "#ep4x3 = eq6\n",
    "eq6 = a[3] * 3"
   ]
  },
  {
   "cell_type": "code",
   "execution_count": 40,
   "metadata": {},
   "outputs": [],
   "source": [
    "a = np.append(a,eq6,axis=0)"
   ]
  },
  {
   "cell_type": "code",
   "execution_count": 41,
   "metadata": {},
   "outputs": [],
   "source": [
    "#eq6 - eq3 = eq7\n",
    "eq7 = a[5] - a[2]"
   ]
  },
  {
   "cell_type": "code",
   "execution_count": 42,
   "metadata": {},
   "outputs": [],
   "source": [
    "a = np.append(a,eq7,axis=0)"
   ]
  },
  {
   "cell_type": "code",
   "execution_count": 43,
   "metadata": {},
   "outputs": [],
   "source": [
    "#ep7 - ep5x5 = x\n",
    "x = a[6] - a[4]*5"
   ]
  },
  {
   "cell_type": "code",
   "execution_count": 44,
   "metadata": {},
   "outputs": [
    {
     "output_type": "execute_result",
     "data": {
      "text/plain": [
       "matrix([[ 2,  0,  0, 14]])"
      ]
     },
     "metadata": {},
     "execution_count": 44
    }
   ],
   "source": [
    "x"
   ]
  },
  {
   "cell_type": "code",
   "execution_count": 45,
   "metadata": {},
   "outputs": [],
   "source": [
    "# get x\n",
    "x = x/2"
   ]
  },
  {
   "cell_type": "code",
   "execution_count": 46,
   "metadata": {},
   "outputs": [],
   "source": [
    "result = x.copy()"
   ]
  },
  {
   "cell_type": "code",
   "execution_count": 47,
   "metadata": {},
   "outputs": [
    {
     "output_type": "execute_result",
     "data": {
      "text/plain": [
       "matrix([[1., 0., 0., 7.]])"
      ]
     },
     "metadata": {},
     "execution_count": 47
    }
   ],
   "source": [
    "result"
   ]
  },
  {
   "cell_type": "code",
   "execution_count": 48,
   "metadata": {},
   "outputs": [],
   "source": [
    "# get y = eq5 - x*3 \n",
    "y = a[4] - x*3"
   ]
  },
  {
   "cell_type": "code",
   "execution_count": 49,
   "metadata": {},
   "outputs": [],
   "source": [
    "result = np.append(result,y,axis=0)"
   ]
  },
  {
   "cell_type": "code",
   "execution_count": 50,
   "metadata": {},
   "outputs": [
    {
     "output_type": "execute_result",
     "data": {
      "text/plain": [
       "matrix([[ 1.,  0.,  0.,  7.],\n",
       "        [ 0.,  1.,  0., -9.]])"
      ]
     },
     "metadata": {},
     "execution_count": 50
    }
   ],
   "source": [
    "result"
   ]
  },
  {
   "cell_type": "code",
   "execution_count": 51,
   "metadata": {},
   "outputs": [],
   "source": [
    "z = a[2] - x - (y*4)"
   ]
  },
  {
   "cell_type": "code",
   "execution_count": 52,
   "metadata": {},
   "outputs": [],
   "source": [
    "z /= 9"
   ]
  },
  {
   "cell_type": "code",
   "execution_count": 53,
   "metadata": {},
   "outputs": [],
   "source": [
    "result = np.append(result,z,axis=0)"
   ]
  },
  {
   "cell_type": "code",
   "execution_count": 54,
   "metadata": {},
   "outputs": [
    {
     "output_type": "execute_result",
     "data": {
      "text/plain": [
       "matrix([[ 1.,  0.,  0.,  7.],\n",
       "        [ 0.,  1.,  0., -9.],\n",
       "        [ 0.,  0.,  1.,  5.]])"
      ]
     },
     "metadata": {},
     "execution_count": 54
    }
   ],
   "source": [
    "result"
   ]
  },
  {
   "source": [
    "## Task2"
   ],
   "cell_type": "markdown",
   "metadata": {}
  },
  {
   "cell_type": "code",
   "execution_count": 55,
   "metadata": {},
   "outputs": [],
   "source": [
    "a = np.matrix([[2,1,1],\n",
    "             [3,2,3],\n",
    "             [1,4,9]])\n",
    "b = np.matrix([[10],[18],[16]])"
   ]
  },
  {
   "cell_type": "code",
   "execution_count": 56,
   "metadata": {},
   "outputs": [],
   "source": [
    "# x = A^-1 B\n",
    "x = np.linalg.inv(a).dot(b)"
   ]
  },
  {
   "cell_type": "code",
   "execution_count": 57,
   "metadata": {},
   "outputs": [
    {
     "output_type": "execute_result",
     "data": {
      "text/plain": [
       "matrix([[ 7.],\n",
       "        [-9.],\n",
       "        [ 5.]])"
      ]
     },
     "metadata": {},
     "execution_count": 57
    }
   ],
   "source": [
    "x"
   ]
  },
  {
   "cell_type": "code",
   "execution_count": 58,
   "metadata": {},
   "outputs": [],
   "source": [
    "m = np.matrix([[2,-5],\n",
    "               [3,1]])\n",
    "n = np.matrix([[15],[31]])\n",
    "a = np.matrix([[2,1,1],\n",
    "             [3,2,3],\n",
    "             [1,4,9]])\n",
    "b = np.matrix([[10],[18],[16]])\n",
    "j = np.matrix([ [1,2,1,1],\n",
    "                [2,0,4,3],\n",
    "                [4,2,2,1],\n",
    "                [-3,1,3,2]\n",
    "                ])\n",
    "l = np.matrix([ [13],[28],[20],[6]])"
   ]
  },
  {
   "source": [
    "## Task3"
   ],
   "cell_type": "markdown",
   "metadata": {}
  },
  {
   "cell_type": "code",
   "execution_count": 59,
   "metadata": {},
   "outputs": [],
   "source": [
    "def fwd_elim(Ab):\n",
    "    Ab_re = Ab.copy()\n",
    "    [nr,nc] = Ab_re.shape\n",
    "    \n",
    "    # set i as the Iteration index\n",
    "    for i in range(1,nr):\n",
    "        print('Iteration #{}: '.format(i))\n",
    "        # set r as the row index to work on\n",
    "        for r in range(i,nr):\n",
    "            print('  working on row index {}'.format(r))\n",
    "            # iteration index represent the order of the variable that we want to eliminate\n",
    "            row_factor = Ab_re[r,i-1]/Ab_re[i-1,i-1]\n",
    "            Ab_re[r,:] = Ab_re[r,:] - Ab_re[i-1,:]*row_factor\n",
    "        #end for r\n",
    "    #end for i\n",
    "    print(Ab_re)\n",
    "    return Ab_re"
   ]
  },
  {
   "cell_type": "code",
   "execution_count": 60,
   "metadata": {},
   "outputs": [],
   "source": [
    "def backsub(Ab_re):\n",
    "    [nr,nc] = Ab_re.shape\n",
    "    x = np.empty(nr)\n",
    "    \n",
    "    x[nr-1] = Ab_re[nr-1,nc-1]/Ab_re[nr-1,nr-1]\n",
    "    print('x[{}] = {}'.format(nr-1,x[nr-1]))\n",
    "    \n",
    "    for r in range(nr-2,-1,-1):\n",
    "        # range (1,-1,-1) will give i = 1,0\n",
    "        # sum_of_products = sum of products of coeff of x[i+1] and x[i+1]\n",
    "        # before this\n",
    "        sum_of_products = 0\n",
    "        for c in range(r+1, nr):\n",
    "            product = Ab_re[r,c]*x[c]\n",
    "            sum_of_products = sum_of_products + product\n",
    "        #end for\n",
    "        # -,- = + \n",
    "        # -,+ = -\n",
    "        x[r] = (Ab_re[r,nc-1] - sum_of_products)/Ab_re[r,r]\n",
    "    #end for\n",
    "    return x\n",
    "#end function\n",
    "    "
   ]
  },
  {
   "cell_type": "code",
   "execution_count": 61,
   "metadata": {},
   "outputs": [],
   "source": [
    "ab = np.append(a,b,axis=1)"
   ]
  },
  {
   "cell_type": "code",
   "execution_count": 62,
   "metadata": {},
   "outputs": [],
   "source": [
    "ab = ab*1.0"
   ]
  },
  {
   "cell_type": "code",
   "execution_count": 63,
   "metadata": {
    "tags": []
   },
   "outputs": [
    {
     "output_type": "stream",
     "name": "stdout",
     "text": [
      "Iteration #1: \n  working on row index 1\n  working on row index 2\nIteration #2: \n  working on row index 2\n[[  2.    1.    1.   10. ]\n [  0.    0.5   1.5   3. ]\n [  0.    0.   -2.  -10. ]]\n"
     ]
    }
   ],
   "source": [
    "ab_re = fwd_elim(ab)"
   ]
  },
  {
   "cell_type": "code",
   "execution_count": 64,
   "metadata": {
    "tags": []
   },
   "outputs": [
    {
     "output_type": "stream",
     "name": "stdout",
     "text": [
      "x[2] = 5.0\n"
     ]
    },
    {
     "output_type": "execute_result",
     "data": {
      "text/plain": [
       "array([ 7., -9.,  5.])"
      ]
     },
     "metadata": {},
     "execution_count": 64
    }
   ],
   "source": [
    "backsub(ab_re)"
   ]
  },
  {
   "cell_type": "code",
   "execution_count": 65,
   "metadata": {},
   "outputs": [],
   "source": [
    "mn = np.append(m,n,axis=1)\n",
    "mn *= 1.0"
   ]
  },
  {
   "cell_type": "code",
   "execution_count": 66,
   "metadata": {
    "tags": []
   },
   "outputs": [
    {
     "output_type": "stream",
     "name": "stdout",
     "text": [
      "Iteration #1: \n  working on row index 1\n[[ 2 -5 15]\n [ 0  8  8]]\n"
     ]
    }
   ],
   "source": [
    "mn_re = fwd_elim(mn)"
   ]
  },
  {
   "cell_type": "code",
   "execution_count": 67,
   "metadata": {
    "tags": []
   },
   "outputs": [
    {
     "output_type": "stream",
     "name": "stdout",
     "text": [
      "x[1] = 1.0\n"
     ]
    },
    {
     "output_type": "execute_result",
     "data": {
      "text/plain": [
       "array([10.,  1.])"
      ]
     },
     "metadata": {},
     "execution_count": 67
    }
   ],
   "source": [
    "backsub(mn_re)"
   ]
  },
  {
   "cell_type": "code",
   "execution_count": 68,
   "metadata": {},
   "outputs": [],
   "source": [
    "jl = np.append(j,l,axis=1)\n",
    "jl *= 1.0"
   ]
  },
  {
   "cell_type": "code",
   "execution_count": 69,
   "metadata": {
    "tags": []
   },
   "outputs": [
    {
     "output_type": "stream",
     "name": "stdout",
     "text": [
      "Iteration #1: \n  working on row index 1\n  working on row index 2\n  working on row index 3\nIteration #2: \n  working on row index 2\n  working on row index 3\nIteration #3: \n  working on row index 3\n[[  1   2   1   1  13]\n [  0  -4   2   1   2]\n [  0   0  -5  -4 -35]\n [  0   0   0  -1 -15]]\n"
     ]
    }
   ],
   "source": [
    "jl_re = fwd_elim(jl)"
   ]
  },
  {
   "cell_type": "code",
   "execution_count": 70,
   "metadata": {
    "tags": []
   },
   "outputs": [
    {
     "output_type": "stream",
     "name": "stdout",
     "text": [
      "x[3] = 15.0\n"
     ]
    },
    {
     "output_type": "execute_result",
     "data": {
      "text/plain": [
       "array([ 1.5 ,  0.75, -5.  , 15.  ])"
      ]
     },
     "metadata": {},
     "execution_count": 70
    }
   ],
   "source": [
    "backsub(jl_re)"
   ]
  },
  {
   "source": [
    "## Task4"
   ],
   "cell_type": "markdown",
   "metadata": {}
  },
  {
   "cell_type": "code",
   "execution_count": 71,
   "metadata": {},
   "outputs": [],
   "source": [
    "def Cramer_rule(A,B):\n",
    "    size = A.shape\n",
    "    ans = np.empty(size[0])\n",
    "    for i in range(size[0]):\n",
    "        ax = A.copy()\n",
    "        ax[:,i] = B\n",
    "        ans[i] = np.linalg.det(ax)/np.linalg.det(A)\n",
    "    print(ans) "
   ]
  },
  {
   "cell_type": "code",
   "execution_count": 72,
   "metadata": {
    "tags": []
   },
   "outputs": [
    {
     "output_type": "stream",
     "name": "stdout",
     "text": [
      "[10.  1.]\n"
     ]
    }
   ],
   "source": [
    "Cramer_rule(m,n)"
   ]
  },
  {
   "cell_type": "code",
   "execution_count": 73,
   "metadata": {
    "tags": []
   },
   "outputs": [
    {
     "output_type": "stream",
     "name": "stdout",
     "text": [
      "[ 7. -9.  5.]\n"
     ]
    }
   ],
   "source": [
    "Cramer_rule(a,b)"
   ]
  },
  {
   "cell_type": "code",
   "execution_count": 74,
   "metadata": {
    "tags": []
   },
   "outputs": [
    {
     "output_type": "stream",
     "name": "stdout",
     "text": [
      "[ 3.  1. -2. 10.]\n"
     ]
    }
   ],
   "source": [
    "Cramer_rule(j,l)"
   ]
  },
  {
   "source": [
    "## Task5"
   ],
   "cell_type": "markdown",
   "metadata": {}
  },
  {
   "cell_type": "code",
   "execution_count": 77,
   "metadata": {},
   "outputs": [],
   "source": [
    "m = np.matrix([[3,1],\n",
    "               [2,-5]\n",
    "               ])\n",
    "n = np.matrix([[31],[15]])\n",
    "a = np.matrix([[3,2,3],\n",
    "               [2,1,1],\n",
    "               [1,4,9]])\n",
    "b = np.matrix([[18],[10],[16]])\n",
    "j = np.matrix([ [4,2,2,1],\n",
    "                [2,0,4,3],\n",
    "                [1,2,1,1],\n",
    "                [-3,1,3,2]\n",
    "                ])\n",
    "l = np.matrix([ [20],[28],[13],[6]])"
   ]
  },
  {
   "cell_type": "code",
   "execution_count": 78,
   "metadata": {},
   "outputs": [],
   "source": [
    "mn = np.append(m,n,axis=1)\n"
   ]
  },
  {
   "cell_type": "code",
   "execution_count": 79,
   "metadata": {},
   "outputs": [
    {
     "output_type": "stream",
     "name": "stdout",
     "text": [
      "Iteration #1: \n  working on row index 1\n[[ 3  1 31]\n [ 0 -5 -5]]\n"
     ]
    }
   ],
   "source": [
    "mn_re = fwd_elim(mn)"
   ]
  },
  {
   "cell_type": "code",
   "execution_count": 80,
   "metadata": {},
   "outputs": [
    {
     "output_type": "stream",
     "name": "stdout",
     "text": [
      "x[1] = 1.0\n"
     ]
    },
    {
     "output_type": "execute_result",
     "data": {
      "text/plain": [
       "array([10.,  1.])"
      ]
     },
     "metadata": {},
     "execution_count": 80
    }
   ],
   "source": [
    "backsub(mn_re)"
   ]
  },
  {
   "cell_type": "code",
   "execution_count": 81,
   "metadata": {},
   "outputs": [],
   "source": [
    "ab = np.append(a,b,axis=1)"
   ]
  },
  {
   "cell_type": "code",
   "execution_count": 84,
   "metadata": {},
   "outputs": [
    {
     "output_type": "execute_result",
     "data": {
      "text/plain": [
       "matrix([[ 3,  2,  3, 18],\n",
       "        [ 2,  1,  1, 10],\n",
       "        [ 1,  4,  9, 16]])"
      ]
     },
     "metadata": {},
     "execution_count": 84
    }
   ],
   "source": [
    "ab"
   ]
  },
  {
   "cell_type": "code",
   "execution_count": 85,
   "metadata": {},
   "outputs": [
    {
     "output_type": "stream",
     "name": "stdout",
     "text": [
      "Iteration #1: \n  working on row index 1\n  working on row index 2\nIteration #2: \n  working on row index 2\n[[ 3.00000000e+00  2.00000000e+00  3.00000000e+00  1.80000000e+01]\n [ 0.00000000e+00 -3.33333333e-01 -1.00000000e+00 -2.00000000e+00]\n [ 0.00000000e+00 -4.44089210e-16 -2.00000000e+00 -1.00000000e+01]]\n"
     ]
    }
   ],
   "source": [
    "ab_re = fwd_elim(ab*1.0)"
   ]
  },
  {
   "cell_type": "code",
   "execution_count": 86,
   "metadata": {},
   "outputs": [
    {
     "output_type": "stream",
     "name": "stdout",
     "text": [
      "x[2] = 4.999999999999995\n"
     ]
    },
    {
     "output_type": "execute_result",
     "data": {
      "text/plain": [
       "array([ 7., -9.,  5.])"
      ]
     },
     "metadata": {},
     "execution_count": 86
    }
   ],
   "source": [
    "backsub(ab_re)"
   ]
  },
  {
   "cell_type": "code",
   "execution_count": 87,
   "metadata": {},
   "outputs": [],
   "source": [
    "jl =np.append(j,l,axis=1)"
   ]
  },
  {
   "cell_type": "code",
   "execution_count": 88,
   "metadata": {},
   "outputs": [
    {
     "output_type": "execute_result",
     "data": {
      "text/plain": [
       "matrix([[ 4,  2,  2,  1, 20],\n",
       "        [ 2,  0,  4,  3, 28],\n",
       "        [ 1,  2,  1,  1, 13],\n",
       "        [-3,  1,  3,  2,  6]])"
      ]
     },
     "metadata": {},
     "execution_count": 88
    }
   ],
   "source": [
    "jl"
   ]
  },
  {
   "cell_type": "code",
   "execution_count": 91,
   "metadata": {},
   "outputs": [
    {
     "output_type": "stream",
     "name": "stdout",
     "text": [
      "Iteration #1: \n  working on row index 1\n  working on row index 2\n  working on row index 3\nIteration #2: \n  working on row index 2\n  working on row index 3\nIteration #3: \n  working on row index 3\n[[  4.    2.    2.    1.   20. ]\n [  0.   -1.    3.    2.5  18. ]\n [  0.    0.    5.    4.5  35. ]\n [  0.    0.    0.   -1.8 -18. ]]\n"
     ]
    }
   ],
   "source": [
    "jl_re = fwd_elim(jl*1.0)"
   ]
  },
  {
   "cell_type": "code",
   "execution_count": 92,
   "metadata": {},
   "outputs": [
    {
     "output_type": "stream",
     "name": "stdout",
     "text": [
      "x[3] = 10.000000000000005\n"
     ]
    },
    {
     "output_type": "execute_result",
     "data": {
      "text/plain": [
       "array([ 3.,  1., -2., 10.])"
      ]
     },
     "metadata": {},
     "execution_count": 92
    }
   ],
   "source": [
    "backsub(jl_re)"
   ]
  },
  {
   "cell_type": "code",
   "execution_count": null,
   "metadata": {},
   "outputs": [],
   "source": []
  }
 ]
}