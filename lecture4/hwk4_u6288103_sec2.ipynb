{
 "metadata": {
  "language_info": {
   "codemirror_mode": {
    "name": "ipython",
    "version": 3
   },
   "file_extension": ".py",
   "mimetype": "text/x-python",
   "name": "python",
   "nbconvert_exporter": "python",
   "pygments_lexer": "ipython3",
   "version": "3.8.6-final"
  },
  "orig_nbformat": 2,
  "kernelspec": {
   "name": "Python 3.8.6 64-bit",
   "display_name": "Python 3.8.6 64-bit",
   "metadata": {
    "interpreter": {
     "hash": "57845ac6100c70202c6bdf8154370f5c92ad65b65d8ea5039294bd4b6604693a"
    }
   }
  }
 },
 "nbformat": 4,
 "nbformat_minor": 2,
 "cells": [
  {
   "cell_type": "code",
   "execution_count": 22,
   "metadata": {},
   "outputs": [],
   "source": [
    "import math as m"
   ]
  },
  {
   "cell_type": "code",
   "execution_count": 29,
   "metadata": {},
   "outputs": [],
   "source": [
    "def f(x):\n",
    "    # task1 x**3 - 4*x**2 - 4*x + 16\n",
    "    # task2 x**2 - 2*x -3\n",
    "    # task2 m.e**(-x) - x\n",
    "    # task2 m.sin(2*m.pi*x) + m.e**(1.2*x) + x - 2.5\n",
    "    return  m.sin(2*m.pi*x) + m.e**(1.2*x) + x - 2.5"
   ]
  },
  {
   "cell_type": "code",
   "execution_count": 30,
   "metadata": {},
   "outputs": [],
   "source": [
    "def df(x):\n",
    "    # 1.2*m.e**(1.2*x) + 2*m.pi*m.cos(2*m.pi*x)+1\n",
    "\n",
    "    # task1 3*x**2 - 8*x -4\n",
    "    # task2 2*(x-1)\n",
    "    # task2 -1 * m.e**(-x) - 1\n",
    "    # task2 1.2*m.e**(1.2*x) + 2*m.pi*m.cos(2*m.pi*x)+1\n",
    "    return 1.2*m.e**(1.2*x) + 2*m.pi*m.cos(2*m.pi*x)+1"
   ]
  },
  {
   "cell_type": "code",
   "execution_count": 44,
   "metadata": {},
   "outputs": [],
   "source": [
    "def g(x):\n",
    "    # f(x) = e^(-x) - x\n",
    "    # x = e^(-x)\n",
    "    # m.sin(m.sqrt(x))\n",
    "    # 2.5 - m.sin(2*m.pi) + m.e**(1.2*x)\n",
    "    # m.sqrt(2*x+3)\n",
    "    # m.e**(-x)\n",
    "    return 2.5 - m.sin(2*m.pi) - m.e**(1.2*x)"
   ]
  },
  {
   "cell_type": "code",
   "execution_count": 4,
   "metadata": {},
   "outputs": [],
   "source": [
    "def newton(f,df,x0,p):\n",
    "    es = 0.5 *(10**(2-p))\n",
    "    x = prev_x = x0\n",
    "    i = 0\n",
    "    ea = 100\n",
    "    while ea > es:\n",
    "        x = x - (f(x)/df(x))\n",
    "        ea = abs((x-prev_x)/x) * 100\n",
    "        prev_x = x\n",
    "        i += 1\n",
    "        print(x)"
   ]
  },
  {
   "source": [
    "# Task1"
   ],
   "cell_type": "markdown",
   "metadata": {}
  },
  {
   "cell_type": "code",
   "execution_count": 5,
   "metadata": {
    "tags": []
   },
   "outputs": [
    {
     "output_type": "stream",
     "name": "stdout",
     "text": "-2.152542372881356\n-2.008841631069802\n-2.00003239130595\n-2.0000000004371565\n"
    }
   ],
   "source": [
    "newton(f,df,-1.5,4)"
   ]
  },
  {
   "cell_type": "code",
   "execution_count": 7,
   "metadata": {
    "tags": []
   },
   "outputs": [
    {
     "output_type": "stream",
     "name": "stdout",
     "text": "1.9926267281105992\n1.9999865582086023\n1.9999999999548304\n"
    }
   ],
   "source": [
    "newton(f,df,1.8,4)"
   ]
  },
  {
   "cell_type": "code",
   "execution_count": 8,
   "metadata": {
    "tags": []
   },
   "outputs": [
    {
     "output_type": "stream",
     "name": "stdout",
     "text": "4.021932114882507\n4.000313239069205\n4.000000065390287\n4.000000000000002\n"
    }
   ],
   "source": [
    "newton(f,df,4.2,4)"
   ]
  },
  {
   "cell_type": "code",
   "execution_count": 9,
   "metadata": {},
   "outputs": [],
   "source": [
    "def fixedpoint(g,x0,p):\n",
    "    es = 0.5 *(10**(2-p))\n",
    "    x = prev_x = x0\n",
    "    i = 0\n",
    "    ea = 100\n",
    "    while ea > es:\n",
    "        x = g(x)\n",
    "        ea = abs((x-prev_x)/x) * 100\n",
    "        prev_x = x\n",
    "        i += 1\n",
    "        print(x)"
   ]
  },
  {
   "source": [
    "# Task2\n",
    "$$ \n",
    "f(x) = x^2 -2x -3 \n",
    "$$\n"
   ],
   "cell_type": "markdown",
   "metadata": {}
  },
  {
   "cell_type": "code",
   "execution_count": 18,
   "metadata": {
    "tags": []
   },
   "outputs": [
    {
     "output_type": "stream",
     "name": "stdout",
     "text": "3.05\n3.0006097560975613\n3.0000000929222947\n3.000000000000002\n"
    }
   ],
   "source": [
    "newton(f,df,3.5,4)"
   ]
  },
  {
   "cell_type": "code",
   "execution_count": 33,
   "metadata": {
    "tags": []
   },
   "outputs": [
    {
     "output_type": "stream",
     "name": "stdout",
     "text": "3.1622776601683795\n3.0536134857471335\n3.017818246928444\n3.00593354781121\n3.0019771977186003\n3.0006589935274555\n3.000219656467658\n3.000073217929075\n"
    }
   ],
   "source": [
    "fixedpoint(g,3.5,4)"
   ]
  },
  {
   "source": [
    "$$ \n",
    "f(x) = e-^x -x\n",
    "$$"
   ],
   "cell_type": "markdown",
   "metadata": {}
  },
  {
   "cell_type": "code",
   "execution_count": 27,
   "metadata": {
    "tags": []
   },
   "outputs": [
    {
     "output_type": "stream",
     "name": "stdout",
     "text": "0.5378828427399902\n0.5669869914054133\n0.567143285989123\n0.5671432904097838\n"
    }
   ],
   "source": [
    "newton(f,df,1,4)"
   ]
  },
  {
   "cell_type": "code",
   "execution_count": 41,
   "metadata": {
    "tags": []
   },
   "outputs": [
    {
     "output_type": "stream",
     "name": "stdout",
     "text": "0.36787944117144233\n0.6922006275553464\n0.5004735005636368\n0.6062435350855974\n0.545395785975027\n0.5796123355033789\n0.5601154613610891\n0.571143115080177\n0.5648793473910495\n0.5684287250290607\n0.5664147331468833\n0.5675566373282835\n0.5669089119214953\n0.5672762321755697\n0.5670678983907883\n0.5671860500993571\n0.5671190400572149\n0.5671570440012975\n0.5671354902062784\n"
    }
   ],
   "source": [
    "fixedpoint(g,1,4)"
   ]
  },
  {
   "source": [
    "$$ \n",
    "f(x) = sin(2pix) + e^(1.2x) + x - 2.5\n",
    "$$"
   ],
   "cell_type": "markdown",
   "metadata": {}
  },
  {
   "cell_type": "code",
   "execution_count": 31,
   "metadata": {
    "tags": []
   },
   "outputs": [
    {
     "output_type": "stream",
     "name": "stdout",
     "text": "0.8064783296533579\n0.8063421784351169\n0.8063421187337548\n"
    }
   ],
   "source": [
    "newton(f,df,0.8,4)"
   ]
  },
  {
   "source": [
    "Can't do it  \n",
    "fixedpoint(g,0.5,4)"
   ],
   "cell_type": "markdown",
   "metadata": {
    "tags": [
     "outputPrepend"
    ]
   }
  },
  {
   "cell_type": "code",
   "execution_count": null,
   "metadata": {},
   "outputs": [],
   "source": []
  }
 ]
}