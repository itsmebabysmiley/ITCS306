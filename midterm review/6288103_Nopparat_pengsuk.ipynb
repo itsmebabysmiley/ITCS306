{
 "cells": [
  {
   "cell_type": "markdown",
   "metadata": {},
   "source": [
    "# Nopparat Pengsuk 6288103 sec2"
   ]
  },
  {
   "cell_type": "code",
   "execution_count": 30,
   "metadata": {},
   "outputs": [],
   "source": [
    "import numpy as np\n",
    "import matplotlib.pyplot as plt"
   ]
  },
  {
   "cell_type": "markdown",
   "metadata": {},
   "source": [
    "## Question 1"
   ]
  },
  {
   "cell_type": "code",
   "execution_count": 10,
   "metadata": {},
   "outputs": [
    {
     "name": "stdout",
     "output_type": "stream",
     "text": [
      "46656.0\n"
     ]
    }
   ],
   "source": [
    "a = 18\n",
    "b = 24\n",
    "c = 30\n",
    "p = (a+b+c)/2\n",
    "N = (p*(p-a)*(p-b)*(p-c))\n",
    "print(N)"
   ]
  },
  {
   "cell_type": "code",
   "execution_count": 12,
   "metadata": {},
   "outputs": [
    {
     "name": "stdout",
     "output_type": "stream",
     "text": [
      "Square root of 46656.0 : 216.0\n"
     ]
    }
   ],
   "source": [
    "prev_x = 1\n",
    "x = 1\n",
    "ea = 100\n",
    "es = 0.0005\n",
    "while ea > es:\n",
    "    x = (1/2)*(prev_x + N/prev_x)\n",
    "    ea = abs((x-prev_x)/x)*100\n",
    "    prev_x = x\n",
    "# end for\n",
    "print('Square root of {} : {}' .format(N, x))"
   ]
  },
  {
   "cell_type": "markdown",
   "metadata": {},
   "source": [
    "## Question 2"
   ]
  },
  {
   "cell_type": "code",
   "execution_count": 19,
   "metadata": {},
   "outputs": [],
   "source": [
    "def iee_to_dec(S,E,F):\n",
    "    Sign = int(S)\n",
    "    Exponent = E\n",
    "    Fraction = F\n",
    "    # Convert exponent to decimal\n",
    "    c = len(Exponent)-1\n",
    "    dec_exponent = 0\n",
    "    for i in Exponent:\n",
    "        dec_exponent += int(i) * (2**c)\n",
    "        c -= 1\n",
    "    dec_exponent = dec_exponent - 127\n",
    "    # End converter\n",
    "    # Convert fraction to decimal\n",
    "    c = -1\n",
    "    dec_fraction = 0\n",
    "    for i in Fraction:\n",
    "        dec_fraction += int(i) * (2**c)\n",
    "        c -= 1\n",
    "    # End converter\n",
    "    # Convert ieee to floating in 3 decimal points\n",
    "    answer = ((-1)**Sign)*(1+dec_fraction)*(2**dec_exponent)\n",
    "    print('{}-{}-{} :'.format(Sign, Exponent, Fraction), round(answer, 3))"
   ]
  },
  {
   "cell_type": "code",
   "execution_count": 20,
   "metadata": {},
   "outputs": [
    {
     "name": "stdout",
     "output_type": "stream",
     "text": [
      "1-01111100-10111000000000000000000 : -0.215\n"
     ]
    }
   ],
   "source": [
    "iee_to_dec('1','01111100','10111000000000000000000')"
   ]
  },
  {
   "cell_type": "markdown",
   "metadata": {},
   "source": [
    "## Question 3\n",
    "$$\n",
    "\\arctan(x) = \\sum_{n=1}^{\\infty} (-1)^{n+1}\\frac{x^{2n-1}}{2n-1}\n",
    "$$\n",
    "$\n",
    "\\arctan(\\pi) = 6\\times \\sum_{n=1}^{\\infty} (-1)^{n+1}\\frac{x^{2n-1}}{2n-1}\n",
    "$"
   ]
  },
  {
   "cell_type": "code",
   "execution_count": 27,
   "metadata": {},
   "outputs": [
    {
     "name": "stdout",
     "output_type": "stream",
     "text": [
      "Pi =  3.1415912429364687\n"
     ]
    }
   ],
   "source": [
    "es = 0.5*pow(10, 2-6)\n",
    "ea = 100\n",
    "n = 1\n",
    "prev = 0\n",
    "#tan(pi/6) = sqrt(3)/3 = 0.57735\n",
    "x = 0.57735\n",
    "n = 1\n",
    "s = 0\n",
    "while ea > es :\n",
    "    p = (2*n)-1\n",
    "    y = ((x**p)/p)*((-1)**(n+1))\n",
    "    s+= y\n",
    "    ea = abs((s-prev)/s)*100\n",
    "    prev = s\n",
    "    n+=1\n",
    "print('Pi = ',s*6)"
   ]
  },
  {
   "cell_type": "markdown",
   "metadata": {},
   "source": [
    "## Question 4"
   ]
  },
  {
   "cell_type": "code",
   "execution_count": 238,
   "metadata": {},
   "outputs": [],
   "source": [
    "def f(x):\n",
    "    return (-0.5*x) + np.log(x) + 1 + np.log(2)"
   ]
  },
  {
   "cell_type": "code",
   "execution_count": 252,
   "metadata": {},
   "outputs": [],
   "source": [
    "def df(x):\n",
    "    return 1/x - 0.5"
   ]
  },
  {
   "cell_type": "code",
   "execution_count": 253,
   "metadata": {
    "scrolled": true
   },
   "outputs": [
    {
     "name": "stderr",
     "output_type": "stream",
     "text": [
      "<ipython-input-251-d996361421f1>:4: RuntimeWarning: invalid value encountered in log\n",
      "  return (-0.5*x) + np.log(x) + 1 + np.log(2)\n"
     ]
    },
    {
     "data": {
      "image/png": "[encoded data removed]",
      "text/plain": [
       "<Figure size 432x288 with 1 Axes>"
      ]
     },
     "metadata": {
      "needs_background": "light"
     },
     "output_type": "display_data"
    }
   ],
   "source": [
    "x = np.arange(-2, 10,0.1)\n",
    "#print(x)\n",
    "y = f(x)\n",
    "# Plot the data\n",
    "plt.plot(x, y)\n",
    "plt.grid()\n",
    "# Show the plot\n",
    "plt.show()"
   ]
  },
  {
   "cell_type": "markdown",
   "metadata": {},
   "source": [
    "### it's very close to zero until zero"
   ]
  },
  {
   "cell_type": "code",
   "execution_count": 254,
   "metadata": {},
   "outputs": [],
   "source": [
    "def interval_search(l, u, n):\n",
    "    xr = 1\n",
    "    es = 0.5*pow(10, 2-5)\n",
    "    prev_xr = 0\n",
    "    ea = 100\n",
    "    while ea > es:\n",
    "        x = np.linspace(l, u, n)\n",
    "        for i in range(n-1):\n",
    "            xl = x[i]\n",
    "            xu = x[i+1]\n",
    "            if f(xl) * f(xu) < 0:\n",
    "                xr = (xl+xu)/2\n",
    "                # print('found root in ({},{}) = {}'.format(xl, xu, xr))\n",
    "                l = xl\n",
    "                u = xu\n",
    "                break\n",
    "        ea = abs((xr-prev_xr)/xr) * 100\n",
    "        prev_xr = xr\n",
    "        # print('approxmate error =',ea)\n",
    "    print('found root in [{},{}] xr = {}'.format(xl, xu, xr))\n",
    "    print('approxmate error =',ea)"
   ]
  },
  {
   "cell_type": "code",
   "execution_count": 266,
   "metadata": {},
   "outputs": [
    {
     "name": "stdout",
     "output_type": "stream",
     "text": [
      "found root in [0.20302580246913582,0.20439753086419754] xr = 0.20371166666666668\n",
      "approxmate error = 0.0\n"
     ]
    }
   ],
   "source": [
    "interval_search(0.00001,1,10)"
   ]
  },
  {
   "cell_type": "code",
   "execution_count": 256,
   "metadata": {},
   "outputs": [
    {
     "name": "stdout",
     "output_type": "stream",
     "text": [
      "found root in [7.382716049382716,7.395061728395062] xr = 7.388888888888889\n",
      "approxmate error = 0.0\n"
     ]
    }
   ],
   "source": [
    "interval_search(7,8,10)"
   ]
  },
  {
   "cell_type": "code",
   "execution_count": 263,
   "metadata": {},
   "outputs": [],
   "source": [
    "def false_position(l, u):\n",
    "    xl = l\n",
    "    xu = u\n",
    "    xr = 0\n",
    "    es = 0.5*pow(10, 2-5)\n",
    "    prev_xr = 0\n",
    "    ea = 100\n",
    "    while ea > es:\n",
    "        # another fomula\n",
    "        # xr = xl -(xu-xl) * f(xl)/(f(xu) - f(xl))\n",
    "        xr = xu - f(xu) * ( (xu - xl) / ( f(xu) - f(xl) ) )\n",
    "        if f(xl)*f(xr) < 0:\n",
    "            xu = xr\n",
    "        else:\n",
    "            xl = xr\n",
    "        # print('found root in ({},{}) = {}'.format(xl, xu, xr))\n",
    "        ea = abs((xr-prev_xr)/xr) * 100\n",
    "        prev_xr = xr\n",
    "        # print('approxmate error =',ea)\n",
    "    print('found root in [{},{}] xr = {}'.format(xl, xu, xr))\n",
    "    print('approxmate error =',ea)"
   ]
  },
  {
   "cell_type": "code",
   "execution_count": 267,
   "metadata": {},
   "outputs": [
    {
     "name": "stdout",
     "output_type": "stream",
     "text": [
      "found root in [1e-05,0.2036665308607402] xr = 0.2036665308607402\n",
      "approxmate error = 0.0004779126047155831\n"
     ]
    }
   ],
   "source": [
    "false_position(0.00001,1)"
   ]
  },
  {
   "cell_type": "code",
   "execution_count": 259,
   "metadata": {},
   "outputs": [
    {
     "name": "stdout",
     "output_type": "stream",
     "text": [
      "found root in [7.3852678444985775,8] xr = 7.3852678444985775\n",
      "approxmate error = 0.0011214569524286568\n"
     ]
    }
   ],
   "source": [
    "false_position(7,8)"
   ]
  },
  {
   "cell_type": "code",
   "execution_count": 260,
   "metadata": {},
   "outputs": [],
   "source": [
    "def newton(f,df,x0,p):\n",
    "    es = 0.5 *(10**(2-p))\n",
    "    x = prev_x = x0\n",
    "    i = 0\n",
    "    ea = 100\n",
    "    while ea > es:\n",
    "        x = x - (f(x)/df(x))\n",
    "        ea = abs((x-prev_x)/x) * 100\n",
    "        prev_x = x\n",
    "        i += 1\n",
    "    print('found root x = {}'.format(x))\n",
    "    print('approxmate error =',ea)"
   ]
  },
  {
   "cell_type": "code",
   "execution_count": 261,
   "metadata": {},
   "outputs": [
    {
     "name": "stdout",
     "output_type": "stream",
     "text": [
      "found root x = 0.2036568621882839\n",
      "approxmate error = 1.2540155865340604e-06\n"
     ]
    }
   ],
   "source": [
    "newton(f,df,0.1,5)"
   ]
  },
  {
   "cell_type": "code",
   "execution_count": 262,
   "metadata": {},
   "outputs": [
    {
     "name": "stdout",
     "output_type": "stream",
     "text": [
      "found root x = 7.385269057779396\n",
      "approxmate error = 5.693871233943472e-06\n"
     ]
    }
   ],
   "source": [
    "newton(f,df,7,5)"
   ]
  },
  {
   "cell_type": "code",
   "execution_count": 188,
   "metadata": {},
   "outputs": [],
   "source": [
    "def max_interval(f,a,b,p):\n",
    "    ep = (b-a)/10\n",
    "    ea = 100\n",
    "    es = 0.5 * 10**(2-p)\n",
    "    px = b\n",
    "    while ea > es:\n",
    "        l = (a+b)/2 - ep/2\n",
    "        u = (a+b)/2 + ep/2\n",
    "        if f(l) > f(u):\n",
    "            b = u\n",
    "        else:\n",
    "            a = l\n",
    "        xmax = (a+b)/2\n",
    "        ea = abs((xmax - px)/xmax) * 100\n",
    "        px = xmax\n",
    "    print('({},{}) xmax = {} ea = {}'.format(a,b,xmax,ea))"
   ]
  },
  {
   "cell_type": "code",
   "execution_count": 290,
   "metadata": {},
   "outputs": [
    {
     "name": "stdout",
     "output_type": "stream",
     "text": [
      "(1.879026817321778,2.1260437774658207) xmax = 2.0025352973937993 ea = 0.00042346679394433963\n"
     ]
    }
   ],
   "source": [
    "max_interval(f,0.53,3,5)"
   ]
  },
  {
   "cell_type": "code",
   "execution_count": 281,
   "metadata": {},
   "outputs": [],
   "source": [
    "def max_parabolic(f,x1,x2,x3,p):\n",
    "    ea = 100\n",
    "    es = 0.5 * 10**(2-p)\n",
    "    px = x3\n",
    "    \n",
    "    while ea > es:\n",
    "        \n",
    "        alpha1 = (x2-x1)*(x2-x1)*(f(x2)-f(x3));\n",
    "        alpha2 = (x2-x3)*(x2-x3)*(f(x2)-f(x1));\n",
    "        beta1 = (x2-x1)*(f(x2)-f(x3));\n",
    "        beta2 = (x2-x3)*(f(x2)-f(x1));\n",
    "        \n",
    "        gamma = (alpha1 - alpha2)/(beta1 - beta2);\n",
    "        x4 = x2 - (0.5 * gamma);\n",
    "        if x4 > x2:\n",
    "            x1 = x2\n",
    "            x2 = x4\n",
    "        else:\n",
    "            x3 = x2\n",
    "            x2 = x4\n",
    "        xopt = x4\n",
    "        ea = abs((xopt - px)/xopt) * 100\n",
    "        px = xopt\n",
    "        # print(x1,x2,x3,x4)\n",
    "        print('({},{}) xmax = {} ea = {}'.format(x1,x2,xopt,ea))"
   ]
  },
  {
   "cell_type": "code",
   "execution_count": 288,
   "metadata": {
    "scrolled": true
   },
   "outputs": [
    {
     "name": "stdout",
     "output_type": "stream",
     "text": [
      "(1,2.073636258171289) xmax = 2.073636258171289 ea = 44.6733962226171\n",
      "(2.073636258171289,2.175704914979402) xmax = 2.175704914979402 ea = 4.69129136517484\n",
      "(2.073636258171289,1.9574476641526293) xmax = 1.9574476641526293 ea = 11.150093809596461\n",
      "(1.9574476641526293,1.9996491140781139) xmax = 1.9996491140781139 ea = 2.1104427586006986\n",
      "(1.9996491140781139,2.0012472531702334) xmax = 2.0012472531702334 ea = 0.07985715356200639\n",
      "(1.9996491140781139,1.999974012464423) xmax = 1.999974012464423 ea = 0.06366286251097594\n",
      "(1.999974012464423,2.0000000768174773) xmax = 2.0000000768174773 ea = 0.001303217602660072\n",
      "(1.999974012464423,2.0000000054079266) xmax = 2.0000000054079266 ea = 3.57047752619805e-06\n"
     ]
    }
   ],
   "source": [
    "max_parabolic(f,0.5,1,3,5)"
   ]
  },
  {
   "cell_type": "markdown",
   "metadata": {},
   "source": [
    "## Question 5"
   ]
  },
  {
   "cell_type": "code",
   "execution_count": 152,
   "metadata": {},
   "outputs": [],
   "source": [
    "def dot_product(A,B): \n",
    "    (nrow_A,ncol_A) = A.shape \n",
    "    (nrow_B,ncol_B) = B.shape \n",
    "    if (ncol_B == nrow_A):\n",
    "        C = np.zeros((nrow_A,ncol_B)) \n",
    "        (nrow_C,ncol_C) = C.shape\n",
    "        for i in range(0,nrow_C):\n",
    "            for j in range(0,ncol_C): \n",
    "                product_sum = 0\n",
    "                for k in range(0, ncol_B): \n",
    "                    product_sum += A[i,k] * B[k,j]\n",
    "                C[i,j] = product_sum \n",
    "            # end for j\n",
    "        # end for l\n",
    "    else:\n",
    "        print('Error')\n",
    "        return\n",
    "    # end if (ncol_A == nrow_B) \n",
    "    return C\n",
    "# end function"
   ]
  },
  {
   "cell_type": "code",
   "execution_count": 153,
   "metadata": {},
   "outputs": [],
   "source": [
    "a = np.array([\n",
    "        [3, -2, 4],\n",
    "        [-2, 6, 2],\n",
    "        [4, 2, 3],\n",
    "        ])\n",
    "e = np.array([\n",
    "        [3,4,2],\n",
    "        [13,26,75],\n",
    "        [9,5,3]\n",
    "        ])"
   ]
  },
  {
   "cell_type": "code",
   "execution_count": 194,
   "metadata": {},
   "outputs": [
    {
     "data": {
      "text/plain": [
       "array([[  19,  -20, -132],\n",
       "       [  90,  158,  452],\n",
       "       [  65,   83,  167]])"
      ]
     },
     "execution_count": 194,
     "metadata": {},
     "output_type": "execute_result"
    }
   ],
   "source": [
    "np.dot(a,e)"
   ]
  },
  {
   "cell_type": "code",
   "execution_count": 154,
   "metadata": {},
   "outputs": [
    {
     "name": "stdout",
     "output_type": "stream",
     "text": [
      "[[  19.  -20. -132.]\n",
      " [  90.  158.  452.]\n",
      " [  65.   83.  167.]]\n"
     ]
    }
   ],
   "source": [
    "print(dot_product(a, e))"
   ]
  },
  {
   "cell_type": "markdown",
   "metadata": {},
   "source": [
    "## Question6"
   ]
  },
  {
   "cell_type": "code",
   "execution_count": 106,
   "metadata": {},
   "outputs": [],
   "source": [
    "#from question\n",
    "A =np.matrix([\n",
    "    [-1, 2, 5, 1],\n",
    "    [-3, 3, -1,4],\n",
    "    [4, 1, 2, -3],\n",
    "    [5, 4, 3, -1]\n",
    "],dtype=float)\n",
    "B = np.matrix([\n",
    "    [-4],[20],[-16],[-10]\n",
    "],dtype=float)"
   ]
  },
  {
   "cell_type": "code",
   "execution_count": 107,
   "metadata": {},
   "outputs": [],
   "source": [
    "#After pivot\n",
    "M =np.matrix([\n",
    "    [5, 4, 3, -1],\n",
    "    [4, 1, 2, -3],\n",
    "    [-1, 2, 5, 1],\n",
    "    [-3, 3, -1,4]\n",
    "],dtype=float)\n",
    "N = np.matrix([\n",
    "    [-10],[-16],[-4],[20]\n",
    "],dtype=float)"
   ]
  },
  {
   "cell_type": "code",
   "execution_count": 108,
   "metadata": {},
   "outputs": [],
   "source": [
    "def fwd_elim(Ab):\n",
    "    Ab_re = Ab.copy()\n",
    "    [nr,nc] = Ab_re.shape\n",
    "    \n",
    "    # set i as the Iteration index\n",
    "    for i in range(1,nr):\n",
    "        print('Iteration #{}: '.format(i))\n",
    "        # set r as the row index to work on\n",
    "        for r in range(i,nr):\n",
    "            print('  working on row index {}'.format(r))\n",
    "            # iteration index represent the order of the variable that we want to eliminate\n",
    "            row_factor = Ab_re[r,i-1]/Ab_re[i-1,i-1]\n",
    "            Ab_re[r,:] = Ab_re[r,:] - Ab_re[i-1,:]*row_factor\n",
    "        #end for r\n",
    "    #end for i\n",
    "    print(Ab_re)\n",
    "    return Ab_re\n",
    "\n",
    "def backsub(Ab_re):\n",
    "    [nr,nc] = Ab_re.shape\n",
    "    x = np.empty(nr)\n",
    "    \n",
    "    x[nr-1] = Ab_re[nr-1,nc-1]/Ab_re[nr-1,nr-1]\n",
    "    print('x[{}] = {}'.format(nr-1,x[nr-1]))\n",
    "    \n",
    "    for r in range(nr-2,-1,-1):\n",
    "        # range (1,-1,-1) will give i = 1,0\n",
    "        # sum_of_products = sum of products of coeff of x[i+1] and x[i+1]\n",
    "        # before this\n",
    "        sum_of_products = 0\n",
    "        for c in range(r+1, nr):\n",
    "            product = Ab_re[r,c]*x[c]\n",
    "            sum_of_products = sum_of_products + product\n",
    "        #end for\n",
    "        # -,- = + \n",
    "        # -,+ = -\n",
    "        x[r] = (Ab_re[r,nc-1] - sum_of_products)/Ab_re[r,r]\n",
    "    #end for\n",
    "    return x\n",
    "#end function"
   ]
  },
  {
   "cell_type": "code",
   "execution_count": 109,
   "metadata": {},
   "outputs": [],
   "source": [
    "#Before pivot\n",
    "AB = np.append(A,B,axis=1)"
   ]
  },
  {
   "cell_type": "code",
   "execution_count": 110,
   "metadata": {},
   "outputs": [
    {
     "data": {
      "text/plain": [
       "matrix([[ -1.,   2.,   5.,   1.,  -4.],\n",
       "        [ -3.,   3.,  -1.,   4.,  20.],\n",
       "        [  4.,   1.,   2.,  -3., -16.],\n",
       "        [  5.,   4.,   3.,  -1., -10.]])"
      ]
     },
     "execution_count": 110,
     "metadata": {},
     "output_type": "execute_result"
    }
   ],
   "source": [
    "AB"
   ]
  },
  {
   "cell_type": "code",
   "execution_count": 111,
   "metadata": {},
   "outputs": [
    {
     "name": "stdout",
     "output_type": "stream",
     "text": [
      "Iteration #1: \n",
      "  working on row index 1\n",
      "  working on row index 2\n",
      "  working on row index 3\n",
      "Iteration #2: \n",
      "  working on row index 2\n",
      "  working on row index 3\n",
      "Iteration #3: \n",
      "  working on row index 3\n",
      "[[ -1.           2.           5.           1.          -4.        ]\n",
      " [  0.          -3.         -16.           1.          32.        ]\n",
      " [  0.           0.         -26.           4.          64.        ]\n",
      " [  0.           0.           0.           1.48717949   4.46153846]]\n"
     ]
    }
   ],
   "source": [
    "AB_re = fwd_elim(AB)"
   ]
  },
  {
   "cell_type": "code",
   "execution_count": 112,
   "metadata": {},
   "outputs": [
    {
     "name": "stdout",
     "output_type": "stream",
     "text": [
      "x[3] = 2.9999999999999942\n"
     ]
    },
    {
     "data": {
      "text/plain": [
       "array([-1.,  1., -2.,  3.])"
      ]
     },
     "execution_count": 112,
     "metadata": {},
     "output_type": "execute_result"
    }
   ],
   "source": [
    "backsub(AB_re)"
   ]
  },
  {
   "cell_type": "code",
   "execution_count": 113,
   "metadata": {},
   "outputs": [],
   "source": [
    "#Pivoting\n",
    "MN = np.append(M,N,axis=1)"
   ]
  },
  {
   "cell_type": "code",
   "execution_count": 114,
   "metadata": {},
   "outputs": [
    {
     "data": {
      "text/plain": [
       "matrix([[  5.,   4.,   3.,  -1., -10.],\n",
       "        [  4.,   1.,   2.,  -3., -16.],\n",
       "        [ -1.,   2.,   5.,   1.,  -4.],\n",
       "        [ -3.,   3.,  -1.,   4.,  20.]])"
      ]
     },
     "execution_count": 114,
     "metadata": {},
     "output_type": "execute_result"
    }
   ],
   "source": [
    "MN\n"
   ]
  },
  {
   "cell_type": "code",
   "execution_count": 115,
   "metadata": {},
   "outputs": [
    {
     "name": "stdout",
     "output_type": "stream",
     "text": [
      "Iteration #1: \n",
      "  working on row index 1\n",
      "  working on row index 2\n",
      "  working on row index 3\n",
      "Iteration #2: \n",
      "  working on row index 2\n",
      "  working on row index 3\n",
      "Iteration #3: \n",
      "  working on row index 3\n",
      "[[  5.           4.           3.          -1.         -10.        ]\n",
      " [  0.          -2.2         -0.4         -2.2         -8.        ]\n",
      " [  0.           0.           5.09090909  -2.         -16.18181818]\n",
      " [  0.           0.           0.          -2.07142857  -6.21428571]]\n"
     ]
    }
   ],
   "source": [
    "MN_re = fwd_elim(MN)"
   ]
  },
  {
   "cell_type": "code",
   "execution_count": 116,
   "metadata": {},
   "outputs": [
    {
     "name": "stdout",
     "output_type": "stream",
     "text": [
      "x[3] = 3.000000000000001\n"
     ]
    },
    {
     "data": {
      "text/plain": [
       "array([-1.,  1., -2.,  3.])"
      ]
     },
     "execution_count": 116,
     "metadata": {},
     "output_type": "execute_result"
    }
   ],
   "source": [
    "backsub(MN_re)"
   ]
  },
  {
   "cell_type": "markdown",
   "metadata": {},
   "source": [
    "## Question7"
   ]
  },
  {
   "cell_type": "code",
   "execution_count": 228,
   "metadata": {},
   "outputs": [],
   "source": [
    "def f(x):\n",
    "    return 35*x - (200+10*x+0.15*x**2)"
   ]
  },
  {
   "cell_type": "code",
   "execution_count": 229,
   "metadata": {},
   "outputs": [],
   "source": [
    "def c(x):\n",
    "    return 200+10*x+0.15*(x**2)"
   ]
  },
  {
   "cell_type": "code",
   "execution_count": 230,
   "metadata": {},
   "outputs": [],
   "source": [
    "def r(x):\n",
    "    return 35*x"
   ]
  },
  {
   "cell_type": "code",
   "execution_count": 231,
   "metadata": {},
   "outputs": [
    {
     "data": {
      "image/png": "[encoded data removed]",
      "text/plain": [
       "<Figure size 432x288 with 1 Axes>"
      ]
     },
     "metadata": {
      "needs_background": "light"
     },
     "output_type": "display_data"
    }
   ],
   "source": [
    "x = np.arange(0,500,1)\n",
    "y1 = c(x)\n",
    "plt.plot(x,y1)\n",
    "y2 = r(x)\n",
    "plt.plot(x,y2)\n",
    "plt.show()"
   ]
  },
  {
   "cell_type": "code",
   "execution_count": 232,
   "metadata": {},
   "outputs": [
    {
     "data": {
      "image/png": "[encoded data removed]",
      "text/plain": [
       "<Figure size 432x288 with 1 Axes>"
      ]
     },
     "metadata": {
      "needs_background": "light"
     },
     "output_type": "display_data"
    }
   ],
   "source": [
    "x = np.arange(0,500,1)\n",
    "y = f(x)\n",
    "plt.plot(x,y)\n",
    "plt.show()"
   ]
  },
  {
   "cell_type": "code",
   "execution_count": 233,
   "metadata": {},
   "outputs": [],
   "source": [
    "def bisection(l, u):\n",
    "    xl = l\n",
    "    xu = u\n",
    "    xr = 0\n",
    "    es = 0.5*pow(10, 2-4)\n",
    "    prev_xr = 0\n",
    "    ea = 100\n",
    "    while ea > es:\n",
    "        mid = (xl+xu)/2\n",
    "        if f(xl)*f(mid) < 0:\n",
    "            xu = mid\n",
    "        else:\n",
    "            xl = mid\n",
    "        xr = (xl+xu)/2\n",
    "        # print('found root in ({},{}) = {}'.format(xl, xu, xr))\n",
    "           \n",
    "        ea = abs((xr-prev_xr)/xr) * 100\n",
    "        prev_xr = xr\n",
    "        # print('approxmate error =',ea)\n",
    "    print('found root in [{},{}] xr = {}'.format(xl, xu, xr))\n",
    "    print('approxmate error =',ea)\n",
    "    return xr"
   ]
  },
  {
   "cell_type": "code",
   "execution_count": 234,
   "metadata": {},
   "outputs": [
    {
     "name": "stdout",
     "output_type": "stream",
     "text": [
      "found root in [158.232421875,158.2421875] xr = 158.2373046875\n",
      "approxmate error = 0.0030857530780386954\n"
     ]
    },
    {
     "data": {
      "text/plain": [
       "158.2373046875"
      ]
     },
     "execution_count": 234,
     "metadata": {},
     "output_type": "execute_result"
    }
   ],
   "source": [
    "bisection(150, 160)"
   ]
  },
  {
   "cell_type": "markdown",
   "metadata": {},
   "source": [
    "### x at the breakeven point = 158.2373046875"
   ]
  },
  {
   "cell_type": "code",
   "execution_count": 235,
   "metadata": {},
   "outputs": [],
   "source": [
    "def max_goldensearch(f,xL,xU,p):\n",
    "    phi = (1+np.sqrt(5))/2 \n",
    "    ea = 100\n",
    "    es = 0.5 * 10**(2-p)\n",
    "    while ea > es:\n",
    "        d = (phi - 1)*(xU-xL)\n",
    "        x1 = xL+d\n",
    "        x2 = xU-d\n",
    "        if f(x1) < f(x2):\n",
    "            xmax = x2\n",
    "            xU = x1\n",
    "        else:\n",
    "            xmax = x1\n",
    "            xL = x2\n",
    "        ea = (2-phi)*abs((xU-xL)/xmax)*100\n",
    "    print('({},{}) xmax = {} ea = {}'.format(xL,xU,xmax,ea))"
   ]
  },
  {
   "cell_type": "code",
   "execution_count": 236,
   "metadata": {},
   "outputs": [
    {
     "name": "stdout",
     "output_type": "stream",
     "text": [
      "(83.33268833851263,83.33355368987118) xmax = 83.33322315506443 ea = 0.00039664229252519\n"
     ]
    }
   ],
   "source": [
    "max_goldensearch(f,80,85,5)"
   ]
  },
  {
   "cell_type": "markdown",
   "metadata": {},
   "source": [
    "### maximum profit = 83.33322315506443"
   ]
  },
  {
   "cell_type": "markdown",
   "metadata": {},
   "source": [
    "## Question8"
   ]
  },
  {
   "cell_type": "code",
   "execution_count": 227,
   "metadata": {},
   "outputs": [
    {
     "name": "stdout",
     "output_type": "stream",
     "text": [
      "45000.0\n",
      "450000.0\n",
      "38250.0\n",
      "382500.0\n",
      "2167500.0\n"
     ]
    }
   ],
   "source": [
    "house_values = 3000000\n",
    "down_payment = 0\n",
    "n_year = 20 ## 4-20\n",
    "\n",
    "#interest first 3 years\n",
    "rate= 1.5\n",
    "interest = (rate/100)*house_values\n",
    "print(interest) # per year?\n",
    "x = (house_values/240) * 36\n",
    "print(x) #in 3 years\n",
    "house_values  = house_values - x # new house price\n",
    "\n",
    "\n",
    "#interest after 3 years\n",
    "interest = (rate/100)*house_values\n",
    "print(interest) # per year?\n",
    "x = (house_values/240) * 36\n",
    "print(x) #in 17 years\n",
    "house_values  = house_values - x\n",
    "print(house_values)\n"
   ]
  },
  {
   "cell_type": "code",
   "execution_count": 199,
   "metadata": {},
   "outputs": [
    {
     "data": {
      "text/plain": [
       "45000.0"
      ]
     },
     "execution_count": 199,
     "metadata": {},
     "output_type": "execute_result"
    }
   ],
   "source": [
    "3000000*0.015\n"
   ]
  },
  {
   "cell_type": "code",
   "execution_count": 203,
   "metadata": {},
   "outputs": [
    {
     "data": {
      "text/plain": [
       "12500.0"
      ]
     },
     "execution_count": 203,
     "metadata": {},
     "output_type": "execute_result"
    }
   ],
   "source": [
    "3000000/240"
   ]
  },
  {
   "cell_type": "code",
   "execution_count": 201,
   "metadata": {},
   "outputs": [
    {
     "data": {
      "text/plain": [
       "450000"
      ]
     },
     "execution_count": 201,
     "metadata": {},
     "output_type": "execute_result"
    }
   ],
   "source": [
    "12500*36\n"
   ]
  },
  {
   "cell_type": "code",
   "execution_count": null,
   "metadata": {},
   "outputs": [],
   "source": []
  }
 ],
 "metadata": {
  "kernelspec": {
   "display_name": "Python 3",
   "language": "python",
   "name": "python3"
  },
  "language_info": {
   "codemirror_mode": {
    "name": "ipython",
    "version": 3
   },
   "file_extension": ".py",
   "mimetype": "text/x-python",
   "name": "python",
   "nbconvert_exporter": "python",
   "pygments_lexer": "ipython3",
   "version": "3.8.3"
  }
 },
 "nbformat": 4,
 "nbformat_minor": 4
}
