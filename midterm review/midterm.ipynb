{
 "metadata": {
  "language_info": {
   "codemirror_mode": {
    "name": "ipython",
    "version": 3
   },
   "file_extension": ".py",
   "mimetype": "text/x-python",
   "name": "python",
   "nbconvert_exporter": "python",
   "pygments_lexer": "ipython3",
   "version": "3.8.6-final"
  },
  "orig_nbformat": 2,
  "kernelspec": {
   "name": "Python 3.8.6 64-bit",
   "display_name": "Python 3.8.6 64-bit",
   "metadata": {
    "interpreter": {
     "hash": "c4d2db86565210e44e1312e025fd2a01c5965d45dad733b18a9ee28031514e1f"
    }
   }
  }
 },
 "nbformat": 4,
 "nbformat_minor": 2,
 "cells": [
  {
   "cell_type": "code",
   "execution_count": 1,
   "metadata": {},
   "outputs": [],
   "source": [
    "import numpy as np"
   ]
  },
  {
   "source": [
    "### 1. Write a python program to calculate the area of a triangle given 3 sides (8, 6 and 10). \n",
    "#### Heron's Formula for the area of a triangle\n",
    "$$\n",
    "area = \\sqrt{p(p−a)(p-b)(p-c)}\n",
    "$$\n",
    "$$\n",
    "p = \\frac{a+b+c}{2}\n",
    "$$"
   ],
   "cell_type": "markdown",
   "metadata": {}
  },
  {
   "cell_type": "code",
   "execution_count": 2,
   "metadata": {},
   "outputs": [
    {
     "output_type": "stream",
     "name": "stdout",
     "text": [
      "24.0\n"
     ]
    }
   ],
   "source": [
    "a = 8\n",
    "b = 6\n",
    "c = 10\n",
    "p = (a+b+c)/2\n",
    "area = np.sqrt(p*(p-a)*(p-b)*(p-c))\n",
    "print(area)"
   ]
  },
  {
   "source": [
    "### 2.Write a python program to flip a coin 1000 times and count the number of heads. "
   ],
   "cell_type": "markdown",
   "metadata": {}
  },
  {
   "cell_type": "code",
   "execution_count": 6,
   "metadata": {},
   "outputs": [
    {
     "output_type": "stream",
     "name": "stdout",
     "text": [
      "head: 511 \ntails: 489\n"
     ]
    }
   ],
   "source": [
    "#numpy.random.randint(low, high=None, size=None, dtype='l')\n",
    "rand = np.random.randint(2,size=1000)\n",
    "count = 0\n",
    "for i in rand:\n",
    "    if i == 1: count += 1\n",
    "print('head: {} \\ntails: {}'.format(count,1000-count))\n"
   ]
  },
  {
   "source": [
    "### 3.Write a python program to round the value of Pi to 5 decimal digits. \n",
    "#### Taylor Series\n",
    "$$\n",
    "\\pi = 4 * \\sum_{n=1}^{\\infty} \\frac{(-1)^{n}}{2n+1}\n"
   ],
   "cell_type": "markdown",
   "metadata": {}
  },
  {
   "cell_type": "code",
   "execution_count": 20,
   "metadata": {
    "tags": []
   },
   "outputs": [
    {
     "output_type": "stream",
     "name": "stdout",
     "text": [
      "3.14159343898711\n"
     ]
    }
   ],
   "source": [
    "es = 0.5*pow(10, 2-5)\n",
    "ea = 100\n",
    "i = 0\n",
    "sum = 0\n",
    "prev_sum = 0\n",
    "while ea > es:\n",
    "    sum = sum + ((-1)**i) / ((2*i)+1)\n",
    "    ea = abs((sum-prev_sum)/sum)*100\n",
    "    prev_sum = sum\n",
    "    #print('interval:{} appoximate_error:{} sum:{}'.format(i,ea,sum))\n",
    "    i += 1\n",
    "# end while\n",
    "print(sum * 4)"
   ]
  },
  {
   "source": [
    "### 4. Write a python program to convert a number in base 10 to base 2 (including number n with |n| < 1) and vice versa. \n"
   ],
   "cell_type": "markdown",
   "metadata": {}
  },
  {
   "cell_type": "code",
   "execution_count": 115,
   "metadata": {},
   "outputs": [],
   "source": [
    "def convert_int_bin(dec):\n",
    "    if dec == 0:\n",
    "        return '0'\n",
    "    int_bin = ''\n",
    "    while dec != 0:\n",
    "        int_bin += str(dec%2)\n",
    "        dec = dec//2\n",
    "    # end while\n",
    "    return int_bin[::-1]"
   ]
  },
  {
   "cell_type": "code",
   "execution_count": 116,
   "metadata": {},
   "outputs": [],
   "source": [
    "def convert_float_bin(dec):\n",
    "    # convert to string\n",
    "    dec = str(dec)\n",
    "    dec = dec.split('.')\n",
    "    # call another function to convert integer part to binary.\n",
    "    int_part = convert_int_bin(int(dec[0]))\n",
    "    # convert string to float.\n",
    "    flo_part = float('0.'+dec[1])\n",
    "    size = len(str(flo_part))-2\n",
    "    i = 0\n",
    "    # check repeat number.\n",
    "    check = flo_part\n",
    "    flo_bin = ''\n",
    "    while i < 30:\n",
    "        flo_part = flo_part*2\n",
    "        flo_bin += str(int(flo_part//1))\n",
    "        flo_part = flo_part%1\n",
    "        i+=1\n",
    "        # repeat number then stop\n",
    "        if check == round(flo_part,size):\n",
    "            break\n",
    "    # end while\n",
    "    # return full part of binary.\n",
    "    return int_part+'.'+flo_bin\n"
   ]
  },
  {
   "cell_type": "code",
   "execution_count": 117,
   "metadata": {
    "tags": []
   },
   "outputs": [
    {
     "output_type": "stream",
     "name": "stdout",
     "text": [
      "0.01011100001010001111\n"
     ]
    }
   ],
   "source": [
    "def dec_bin(dec):\n",
    "    if type(dec) == int:\n",
    "        result = convert_int_bin(dec)\n",
    "    else:\n",
    "        result = convert_float_bin(dec)\n",
    "    print(result)\n",
    "                 \n",
    "dec_bin(0.36)\n"
   ]
  },
  {
   "cell_type": "code",
   "execution_count": null,
   "metadata": {},
   "outputs": [],
   "source": []
  }
 ]
}