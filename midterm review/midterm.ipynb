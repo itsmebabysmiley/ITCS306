{
 "cells": [
  {
   "cell_type": "markdown",
   "metadata": {},
   "source": [
    "\n",
    "\n",
    "<h1> <span style=\"color:yellow\"> IT'S NOT CLEAR CODE BECAUSE I'M DIRTY MAN.</span> </h1>\n",
    "<p align=\"center\" >\n",
    "<img src=\"https://i.pinimg.com/originals/78/8f/27/788f27edb761cb3e6af9422ece19fcc4.jpg\" width=\"30%\" >\n",
    "</p>\n"
   ]
  },
  {
   "cell_type": "code",
   "execution_count": 1,
   "metadata": {},
   "outputs": [],
   "source": [
    "import numpy as np\n",
    "import numpy"
   ]
  },
  {
   "cell_type": "markdown",
   "metadata": {},
   "source": [
    "### 1. Write a python program to calculate the area of a triangle given 3 sides (8, 6 and 10). \n",
    "#### Heron's Formula for the area of a triangle\n",
    "\n",
    "$$\n",
    "area = \\sqrt{p(p−a)(p-b)(p-c)}\n",
    "$$\n",
    "  \n",
    "$$\n",
    "p = \\frac{a+b+c}{2}\n",
    "$$\n"
   ]
  },
  {
   "cell_type": "code",
   "execution_count": 2,
   "metadata": {
    "tags": []
   },
   "outputs": [
    {
     "output_type": "stream",
     "name": "stdout",
     "text": "24.0\n"
    }
   ],
   "source": [
    "a = 8\n",
    "b = 6\n",
    "c = 10\n",
    "p = (a+b+c)/2\n",
    "area = np.sqrt(p*(p-a)*(p-b)*(p-c))\n",
    "print(area)"
   ]
  },
  {
   "cell_type": "markdown",
   "metadata": {},
   "source": [
    "### 2.Write a python program to flip a coin 1000 times and count the number of heads. "
   ]
  },
  {
   "cell_type": "code",
   "execution_count": 3,
   "metadata": {
    "tags": []
   },
   "outputs": [
    {
     "output_type": "stream",
     "name": "stdout",
     "text": "head: 481 \ntails: 519\n"
    }
   ],
   "source": [
    "#numpy.random.randint(low, high=None, size=None, dtype='l')\n",
    "rand = np.random.randint(2,size=1000)\n",
    "count = 0\n",
    "for i in rand:\n",
    "    if i == 1: count += 1\n",
    "print('head: {} \\ntails: {}'.format(count,1000-count))\n"
   ]
  },
  {
   "cell_type": "markdown",
   "metadata": {},
   "source": [
    "### 3.Write a python program to round the value of Pi to 5 decimal digits. \n",
    "#### Taylor Series\n",
    "$$\n",
    "\\pi = 4 \\times \\sum_{n=1}^{\\infty} \\frac{(-1)^{n}}{2n+1}\n",
    "$$"
   ]
  },
  {
   "cell_type": "code",
   "execution_count": 4,
   "metadata": {
    "tags": []
   },
   "outputs": [
    {
     "output_type": "stream",
     "name": "stdout",
     "text": "3.1416005075068716\n"
    }
   ],
   "source": [
    "es = 0.5*pow(10, 2-5)\n",
    "ea = 100\n",
    "i = 0\n",
    "sum = 0\n",
    "prev_sum = 0\n",
    "while ea > es:\n",
    "    sum = sum + ((-1)**i) / ((2*i)+1)\n",
    "    ea = abs((sum-prev_sum)/sum)*100\n",
    "    prev_sum = sum\n",
    "    #print('interval:{} appoximate_error:{} sum:{}'.format(i,ea,sum))\n",
    "    i += 1\n",
    "# end while\n",
    "print(sum*4)"
   ]
  },
  {
   "cell_type": "markdown",
   "metadata": {},
   "source": [
    "### 4. Write a python program to convert a number in base 10 to base 2 (including number n with |n| < 1) and vice versa. \n"
   ]
  },
  {
   "cell_type": "code",
   "execution_count": 5,
   "metadata": {},
   "outputs": [],
   "source": [
    "def dec_bin(dec):\n",
    "    if type(dec) == int:\n",
    "        result = convert_int_bin(dec)\n",
    "    else:\n",
    "        result = convert_float_bin(dec)\n",
    "    print(result)\n",
    "\n",
    "\n",
    "def convert_int_bin(dec):\n",
    "    if dec == 0:\n",
    "        return '0'\n",
    "    int_bin = ''\n",
    "    while dec != 0:\n",
    "        int_bin += str(dec%2)\n",
    "        dec = dec//2\n",
    "    # end while\n",
    "    return int_bin[::-1]\n",
    "\n",
    "\n",
    "def convert_float_bin(dec):\n",
    "    # convert to string\n",
    "    dec = str(dec)\n",
    "    dec = dec.split('.')\n",
    "    # call another function to convert integer part to binary.\n",
    "    int_part = convert_int_bin(int(dec[0]))\n",
    "    # convert string to float.\n",
    "    flo_part = float('0.'+dec[1])\n",
    "    size = len(str(flo_part))-2\n",
    "    i = 0\n",
    "    # check repeat number.\n",
    "    check = flo_part\n",
    "    flo_bin = ''\n",
    "    while i < 32:\n",
    "        flo_part = flo_part*2\n",
    "        flo_bin += str(int(flo_part//1))\n",
    "        flo_part = flo_part%1\n",
    "        i+=1\n",
    "        # repeat number then stop\n",
    "        if check == round(flo_part,size):\n",
    "            break\n",
    "    # end while\n",
    "    # return full part of binary.\n",
    "    return int_part+'.'+flo_bin"
   ]
  },
  {
   "cell_type": "code",
   "execution_count": 6,
   "metadata": {
    "tags": []
   },
   "outputs": [
    {
     "output_type": "stream",
     "name": "stdout",
     "text": "0.01011100001010001111\n"
    }
   ],
   "source": [
    "dec_bin(0.36)\n"
   ]
  },
  {
   "cell_type": "code",
   "execution_count": 7,
   "metadata": {},
   "outputs": [],
   "source": [
    "def bin_dec(bin):\n",
    "    if type(bin) == int:\n",
    "        result = convert_bin_int(bin)\n",
    "    else:\n",
    "        result = convert_bin_float(bin)\n",
    "    print(result)\n",
    "    \n",
    "\n",
    "def convert_bin_int(bin):\n",
    "    if bin == 0:\n",
    "        return '0'\n",
    "    bin = str(bin)\n",
    "    size = len(bin)-1\n",
    "    dec = 0\n",
    "    for i in bin:\n",
    "        if i == '1':\n",
    "            dec += 2**size\n",
    "        size -= 1\n",
    "    return int(dec)\n",
    "\n",
    "def convert_bin_float(bin):\n",
    "    bin = str(bin)\n",
    "    bin = bin.split('.')\n",
    "    int_part, flo_part = bin[0], bin[1]\n",
    "    int_part = convert_bin_int(bin[0])\n",
    "    size = -1\n",
    "    flo = 0\n",
    "    for i in flo_part:\n",
    "        if i == '1':\n",
    "            flo += 2**size\n",
    "        size -=1 \n",
    "    return int_part + float(flo)\n"
   ]
  },
  {
   "cell_type": "code",
   "execution_count": 8,
   "metadata": {
    "tags": []
   },
   "outputs": [
    {
     "output_type": "stream",
     "name": "stdout",
     "text": "9.125\n"
    }
   ],
   "source": [
    "bin_dec(1001.001)"
   ]
  },
  {
   "cell_type": "markdown",
   "metadata": {},
   "source": [
    "### 5. Write a python program to convert a number in base 10 to IEEE-754 32 bits: input is a number in base 10 and output is a list of 3 numbers: sign, exponent and fraction. \n",
    "<p align=\"center\">\n",
    "<img src=\"https://media.geeksforgeeks.org/wp-content/uploads/Single-Precision-IEEE-754-Floating-Point-Standard.jpg\" width=\"50%\" >\n"
   ]
  },
  {
   "cell_type": "code",
   "execution_count": 9,
   "metadata": {},
   "outputs": [],
   "source": [
    "def dec_to_ieee(N):\n",
    "    print('Decimal :',N)\n",
    "    sign = float(N)\n",
    "    \n",
    "    # split in integer part and float part.\n",
    "    temp = N.split('.')\n",
    "    \n",
    "    # step2: Calculate integer part to binary\n",
    "    Integer = ''\n",
    "    N = temp[0]\n",
    "    # step1: Convert string to positive integer.\n",
    "    N = abs(int(N)) \n",
    "    if(N != 0):\n",
    "        while N > 0:\n",
    "            remainder = N % 2\n",
    "            N = N // 2\n",
    "            Integer += str(remainder)\n",
    "        # end while\n",
    "    else:\n",
    "        Integer = '0'\n",
    "    # Reverse the binary\n",
    "    Integer = Integer[::-1]\n",
    "    # End calculate integer part to binary\n",
    "\n",
    "    # step3: Calculate floating part\n",
    "    y = temp[1]\n",
    "    length = len(y)\n",
    "    # Convert string to floating-point\n",
    "    y = float(y) / (10**length)\n",
    "    Float = ''\n",
    "    for i in range(0, 28):\n",
    "        y = y * 2\n",
    "        Float += str(int(y // 1))\n",
    "        y = y % 1\n",
    "    # end for\n",
    "    # End calculate floating part\n",
    "\n",
    "    #step4: Summarizing - the positive number before normalization:\n",
    "    result = Integer + Float\n",
    "    counter = 0\n",
    "    \n",
    "    # step5: Calulate exponent to binary.\n",
    "    # Normalize the binary representation of the number..\n",
    "    # find one non-zero digit stays to the left of the decimal point.\n",
    "    # use counter to count the one non-zero left most\n",
    "    # 1 1001.0101 1000 1101 0100 1111 1101(2) × 2^0\n",
    "    # 1.1001 0101 1000 1101 0100 1111 1101(2) × 2^4 (exponent = 4)\n",
    "    for i in result:\n",
    "        counter += 1\n",
    "        if i == '1':\n",
    "            break\n",
    "    # end for\n",
    "    # shift to the right.\n",
    "    if(counter > len(Integer)+1):\n",
    "        exponent = len(Integer) - counter\n",
    "    # shift to the left.\n",
    "    else:\n",
    "        exponent = counter - len(Integer)\n",
    "        exponent = abs(exponent)\n",
    "    # adjusted exponent by + 127\n",
    "    exponent = exponent + 127\n",
    "    # Convert exponent to binary\n",
    "    bin_exponent = ''\n",
    "    while exponent > 0:\n",
    "        remainder = exponent % 2\n",
    "        exponent = exponent // 2\n",
    "        bin_exponent += str(remainder)\n",
    "    # End calculate exponent to binary\n",
    "\n",
    "    print('Sign :', '0' if sign >= 0 else '1')\n",
    "    print('Exponent :', bin_exponent[::-1].zfill(8))\n",
    "    # Normalize the mantissa(fraction), remove the leading (leftmost) bit,\n",
    "    # since it's allways '1' (and the decimal point) and adjust\n",
    "    # its length to 23 bits, by removing the excess bits from\n",
    "    # the right (losing precision...):\n",
    "    fraction = result[counter::]\n",
    "    print('Fraction :', fraction[0:23])\n",
    "    if sign >= 0:\n",
    "    \tIEEE = '0-'\n",
    "    else:\n",
    "    \tIEEE = '1-'\n",
    "    return IEEE + bin_exponent[::-1].zfill(8) + '-' + fraction[0:23]"
   ]
  },
  {
   "cell_type": "code",
   "execution_count": 10,
   "metadata": {
    "tags": []
   },
   "outputs": [
    {
     "output_type": "stream",
     "name": "stdout",
     "text": "Decimal : 25.347\nSign : 0\nExponent : 10000011\nFraction : 10010101100011010100111\n"
    },
    {
     "output_type": "execute_result",
     "data": {
      "text/plain": "&#39;0-10000011-10010101100011010100111&#39;"
     },
     "metadata": {},
     "execution_count": 10
    }
   ],
   "source": [
    "dec_to_ieee('25.347')"
   ]
  },
  {
   "cell_type": "markdown",
   "metadata": {},
   "source": [
    "### 6. We know that $tan(\\frac{\\pi}{4}) = 1 $. Use the following Taylor series expansion for arctan to evaluate the value of 𝜋 for up to 6 significant digits. \n",
    "$$\n",
    "\\arctan(x) = \\sum_{n=1}^{\\infty} (-1)^{n+1}\\frac{x^{2n-1}}{2n-1}\n",
    "$$\n",
    "\n",
    "$\n",
    "\\arctan(1) = 1 - \\frac{1^{3}}{3} + \\frac{1^{5}}{5} - \\frac{1^{7}}{5} + ... = \\frac{\\pi}{4}\n",
    "$\n",
    "\n",
    "$\n",
    "\\pi = 4\\times  \\sum_{n=1}^{\\infty} \\frac{(-1)^{n}}{2n+1}\n",
    "$"
   ]
  },
  {
   "cell_type": "code",
   "execution_count": 11,
   "metadata": {
    "tags": []
   },
   "outputs": [
    {
     "output_type": "stream",
     "name": "stdout",
     "text": "3.14159343898711\n"
    }
   ],
   "source": [
    "es = 0.5*pow(10, 2-6)\n",
    "ea = 100\n",
    "n = 1\n",
    "prev = 0\n",
    "x = 1\n",
    "n = 1\n",
    "s = 0\n",
    "while ea > es :\n",
    "    p = (2*n)-1\n",
    "    y = ((x**p)/p)*((-1)**(n+1))\n",
    "    s+= y\n",
    "    ea = abs((s-prev)/s)*100\n",
    "    prev = s\n",
    "    n+=1\n",
    "print(s*4)"
   ]
  },
  {
   "cell_type": "code",
   "execution_count": 12,
   "metadata": {},
   "outputs": [],
   "source": [
    "import matplotlib.pyplot as plt"
   ]
  },
  {
   "cell_type": "markdown",
   "metadata": {},
   "source": [
    "\n",
    "###  7. For function $ f(x) = e^{-x} - ln(x) $ \n",
    "a. Plot 𝑓(𝑥)  \n",
    "b. Solve 𝑓(𝑥) = 0 using eye-balling methods, interval search, Newton-Raphson,bisection and false position."
   ]
  },
  {
   "cell_type": "code",
   "execution_count": 13,
   "metadata": {},
   "outputs": [],
   "source": [
    "def f(x):\n",
    "    return np.e**-x -np.log(x)"
   ]
  },
  {
   "cell_type": "code",
   "execution_count": 14,
   "metadata": {},
   "outputs": [],
   "source": [
    "def df(x):\n",
    "    return (-1) * ((np.e**(-x) * x+1)/x)"
   ]
  },
  {
   "cell_type": "code",
   "execution_count": 15,
   "metadata": {
    "tags": []
   },
   "outputs": [
    {
     "output_type": "stream",
     "name": "stdout",
     "text": "[0.  0.1 0.2 0.3 0.4 0.5 0.6 0.7 0.8 0.9 1.  1.1 1.2 1.3 1.4 1.5 1.6 1.7\n 1.8 1.9 2.  2.1 2.2 2.3 2.4 2.5 2.6 2.7 2.8 2.9 3.  3.1 3.2 3.3 3.4 3.5\n 3.6 3.7 3.8 3.9 4.  4.1 4.2 4.3 4.4 4.5 4.6 4.7 4.8 4.9]\n"
    },
    {
     "output_type": "display_data",
     "data": {
      "text/plain": "&lt;Figure size 432x288 with 1 Axes&gt;",
      "image/svg+xml": "<?xml version=\"1.0\" encoding=\"utf-8\" standalone=\"no\"?>\n<!DOCTYPE svg PUBLIC \"-//W3C//DTD SVG 1.1//EN\"\n  \"http://www.w3.org/Graphics/SVG/1.1/DTD/svg11.dtd\">\n<!-- Created with matplotlib (https://matplotlib.org/) -->\n<svg height=\"248.518125pt\" version=\"1.1\" viewBox=\"0 0 370.942187 248.518125\" width=\"370.942187pt\" xmlns=\"http://www.w3.org/2000/svg\" xmlns:xlink=\"http://www.w3.org/1999/xlink\">\n <defs>\n  <style type=\"text/css\">\n*{stroke-linecap:butt;stroke-linejoin:round;}\n  </style>\n </defs>\n <g id=\"figure_1\">\n  <g id=\"patch_1\">\n   <path d=\"M 0 248.518125 \nL 370.942187 248.518125 \nL 370.942187 0 \nL 0 0 \nz\n\" style=\"fill:none;\"/>\n  </g>\n  <g id=\"axes_1\">\n   <g id=\"patch_2\">\n    <path d=\"M 28.942188 224.64 \nL 363.742188 224.64 \nL 363.742188 7.2 \nL 28.942188 7.2 \nz\n\" style=\"fill:#ffffff;\"/>\n   </g>\n   <g id=\"matplotlib.axis_1\">\n    <g id=\"xtick_1\">\n     <g id=\"line2d_1\">\n      <path clip-path=\"url(#p8ca02379e5)\" d=\"M 37.81946 224.64 \nL 37.81946 7.2 \n\" style=\"fill:none;stroke:#b0b0b0;stroke-linecap:square;stroke-width:0.8;\"/>\n     </g>\n     <g id=\"line2d_2\">\n      <defs>\n       <path d=\"M 0 0 \nL 0 3.5 \n\" id=\"m0da1a06c55\" style=\"stroke:#000000;stroke-width:0.8;\"/>\n      </defs>\n      <g>\n       <use style=\"stroke:#000000;stroke-width:0.8;\" x=\"37.81946\" xlink:href=\"#m0da1a06c55\" y=\"224.64\"/>\n      </g>\n     </g>\n     <g id=\"text_1\">\n      <!-- 0 -->\n      <defs>\n       <path d=\"M 31.78125 66.40625 \nQ 24.171875 66.40625 20.328125 58.90625 \nQ 16.5 51.421875 16.5 36.375 \nQ 16.5 21.390625 20.328125 13.890625 \nQ 24.171875 6.390625 31.78125 6.390625 \nQ 39.453125 6.390625 43.28125 13.890625 \nQ 47.125 21.390625 47.125 36.375 \nQ 47.125 51.421875 43.28125 58.90625 \nQ 39.453125 66.40625 31.78125 66.40625 \nz\nM 31.78125 74.21875 \nQ 44.046875 74.21875 50.515625 64.515625 \nQ 56.984375 54.828125 56.984375 36.375 \nQ 56.984375 17.96875 50.515625 8.265625 \nQ 44.046875 -1.421875 31.78125 -1.421875 \nQ 19.53125 -1.421875 13.0625 8.265625 \nQ 6.59375 17.96875 6.59375 36.375 \nQ 6.59375 54.828125 13.0625 64.515625 \nQ 19.53125 74.21875 31.78125 74.21875 \nz\n\" id=\"DejaVuSans-48\"/>\n      </defs>\n      <g transform=\"translate(34.63821 239.238437)scale(0.1 -0.1)\">\n       <use xlink:href=\"#DejaVuSans-48\"/>\n      </g>\n     </g>\n    </g>\n    <g id=\"xtick_2\">\n     <g id=\"line2d_3\">\n      <path clip-path=\"url(#p8ca02379e5)\" d=\"M 101.228551 224.64 \nL 101.228551 7.2 \n\" style=\"fill:none;stroke:#b0b0b0;stroke-linecap:square;stroke-width:0.8;\"/>\n     </g>\n     <g id=\"line2d_4\">\n      <g>\n       <use style=\"stroke:#000000;stroke-width:0.8;\" x=\"101.228551\" xlink:href=\"#m0da1a06c55\" y=\"224.64\"/>\n      </g>\n     </g>\n     <g id=\"text_2\">\n      <!-- 1 -->\n      <defs>\n       <path d=\"M 12.40625 8.296875 \nL 28.515625 8.296875 \nL 28.515625 63.921875 \nL 10.984375 60.40625 \nL 10.984375 69.390625 \nL 28.421875 72.90625 \nL 38.28125 72.90625 \nL 38.28125 8.296875 \nL 54.390625 8.296875 \nL 54.390625 0 \nL 12.40625 0 \nz\n\" id=\"DejaVuSans-49\"/>\n      </defs>\n      <g transform=\"translate(98.047301 239.238437)scale(0.1 -0.1)\">\n       <use xlink:href=\"#DejaVuSans-49\"/>\n      </g>\n     </g>\n    </g>\n    <g id=\"xtick_3\">\n     <g id=\"line2d_5\">\n      <path clip-path=\"url(#p8ca02379e5)\" d=\"M 164.637642 224.64 \nL 164.637642 7.2 \n\" style=\"fill:none;stroke:#b0b0b0;stroke-linecap:square;stroke-width:0.8;\"/>\n     </g>\n     <g id=\"line2d_6\">\n      <g>\n       <use style=\"stroke:#000000;stroke-width:0.8;\" x=\"164.637642\" xlink:href=\"#m0da1a06c55\" y=\"224.64\"/>\n      </g>\n     </g>\n     <g id=\"text_3\">\n      <!-- 2 -->\n      <defs>\n       <path d=\"M 19.1875 8.296875 \nL 53.609375 8.296875 \nL 53.609375 0 \nL 7.328125 0 \nL 7.328125 8.296875 \nQ 12.9375 14.109375 22.625 23.890625 \nQ 32.328125 33.6875 34.8125 36.53125 \nQ 39.546875 41.84375 41.421875 45.53125 \nQ 43.3125 49.21875 43.3125 52.78125 \nQ 43.3125 58.59375 39.234375 62.25 \nQ 35.15625 65.921875 28.609375 65.921875 \nQ 23.96875 65.921875 18.8125 64.3125 \nQ 13.671875 62.703125 7.8125 59.421875 \nL 7.8125 69.390625 \nQ 13.765625 71.78125 18.9375 73 \nQ 24.125 74.21875 28.421875 74.21875 \nQ 39.75 74.21875 46.484375 68.546875 \nQ 53.21875 62.890625 53.21875 53.421875 \nQ 53.21875 48.921875 51.53125 44.890625 \nQ 49.859375 40.875 45.40625 35.40625 \nQ 44.1875 33.984375 37.640625 27.21875 \nQ 31.109375 20.453125 19.1875 8.296875 \nz\n\" id=\"DejaVuSans-50\"/>\n      </defs>\n      <g transform=\"translate(161.456392 239.238437)scale(0.1 -0.1)\">\n       <use xlink:href=\"#DejaVuSans-50\"/>\n      </g>\n     </g>\n    </g>\n    <g id=\"xtick_4\">\n     <g id=\"line2d_7\">\n      <path clip-path=\"url(#p8ca02379e5)\" d=\"M 228.046733 224.64 \nL 228.046733 7.2 \n\" style=\"fill:none;stroke:#b0b0b0;stroke-linecap:square;stroke-width:0.8;\"/>\n     </g>\n     <g id=\"line2d_8\">\n      <g>\n       <use style=\"stroke:#000000;stroke-width:0.8;\" x=\"228.046733\" xlink:href=\"#m0da1a06c55\" y=\"224.64\"/>\n      </g>\n     </g>\n     <g id=\"text_4\">\n      <!-- 3 -->\n      <defs>\n       <path d=\"M 40.578125 39.3125 \nQ 47.65625 37.796875 51.625 33 \nQ 55.609375 28.21875 55.609375 21.1875 \nQ 55.609375 10.40625 48.1875 4.484375 \nQ 40.765625 -1.421875 27.09375 -1.421875 \nQ 22.515625 -1.421875 17.65625 -0.515625 \nQ 12.796875 0.390625 7.625 2.203125 \nL 7.625 11.71875 \nQ 11.71875 9.328125 16.59375 8.109375 \nQ 21.484375 6.890625 26.8125 6.890625 \nQ 36.078125 6.890625 40.9375 10.546875 \nQ 45.796875 14.203125 45.796875 21.1875 \nQ 45.796875 27.640625 41.28125 31.265625 \nQ 36.765625 34.90625 28.71875 34.90625 \nL 20.21875 34.90625 \nL 20.21875 43.015625 \nL 29.109375 43.015625 \nQ 36.375 43.015625 40.234375 45.921875 \nQ 44.09375 48.828125 44.09375 54.296875 \nQ 44.09375 59.90625 40.109375 62.90625 \nQ 36.140625 65.921875 28.71875 65.921875 \nQ 24.65625 65.921875 20.015625 65.03125 \nQ 15.375 64.15625 9.8125 62.3125 \nL 9.8125 71.09375 \nQ 15.4375 72.65625 20.34375 73.4375 \nQ 25.25 74.21875 29.59375 74.21875 \nQ 40.828125 74.21875 47.359375 69.109375 \nQ 53.90625 64.015625 53.90625 55.328125 \nQ 53.90625 49.265625 50.4375 45.09375 \nQ 46.96875 40.921875 40.578125 39.3125 \nz\n\" id=\"DejaVuSans-51\"/>\n      </defs>\n      <g transform=\"translate(224.865483 239.238437)scale(0.1 -0.1)\">\n       <use xlink:href=\"#DejaVuSans-51\"/>\n      </g>\n     </g>\n    </g>\n    <g id=\"xtick_5\">\n     <g id=\"line2d_9\">\n      <path clip-path=\"url(#p8ca02379e5)\" d=\"M 291.455824 224.64 \nL 291.455824 7.2 \n\" style=\"fill:none;stroke:#b0b0b0;stroke-linecap:square;stroke-width:0.8;\"/>\n     </g>\n     <g id=\"line2d_10\">\n      <g>\n       <use style=\"stroke:#000000;stroke-width:0.8;\" x=\"291.455824\" xlink:href=\"#m0da1a06c55\" y=\"224.64\"/>\n      </g>\n     </g>\n     <g id=\"text_5\">\n      <!-- 4 -->\n      <defs>\n       <path d=\"M 37.796875 64.3125 \nL 12.890625 25.390625 \nL 37.796875 25.390625 \nz\nM 35.203125 72.90625 \nL 47.609375 72.90625 \nL 47.609375 25.390625 \nL 58.015625 25.390625 \nL 58.015625 17.1875 \nL 47.609375 17.1875 \nL 47.609375 0 \nL 37.796875 0 \nL 37.796875 17.1875 \nL 4.890625 17.1875 \nL 4.890625 26.703125 \nz\n\" id=\"DejaVuSans-52\"/>\n      </defs>\n      <g transform=\"translate(288.274574 239.238437)scale(0.1 -0.1)\">\n       <use xlink:href=\"#DejaVuSans-52\"/>\n      </g>\n     </g>\n    </g>\n    <g id=\"xtick_6\">\n     <g id=\"line2d_11\">\n      <path clip-path=\"url(#p8ca02379e5)\" d=\"M 354.864915 224.64 \nL 354.864915 7.2 \n\" style=\"fill:none;stroke:#b0b0b0;stroke-linecap:square;stroke-width:0.8;\"/>\n     </g>\n     <g id=\"line2d_12\">\n      <g>\n       <use style=\"stroke:#000000;stroke-width:0.8;\" x=\"354.864915\" xlink:href=\"#m0da1a06c55\" y=\"224.64\"/>\n      </g>\n     </g>\n     <g id=\"text_6\">\n      <!-- 5 -->\n      <defs>\n       <path d=\"M 10.796875 72.90625 \nL 49.515625 72.90625 \nL 49.515625 64.59375 \nL 19.828125 64.59375 \nL 19.828125 46.734375 \nQ 21.96875 47.46875 24.109375 47.828125 \nQ 26.265625 48.1875 28.421875 48.1875 \nQ 40.625 48.1875 47.75 41.5 \nQ 54.890625 34.8125 54.890625 23.390625 \nQ 54.890625 11.625 47.5625 5.09375 \nQ 40.234375 -1.421875 26.90625 -1.421875 \nQ 22.3125 -1.421875 17.546875 -0.640625 \nQ 12.796875 0.140625 7.71875 1.703125 \nL 7.71875 11.625 \nQ 12.109375 9.234375 16.796875 8.0625 \nQ 21.484375 6.890625 26.703125 6.890625 \nQ 35.15625 6.890625 40.078125 11.328125 \nQ 45.015625 15.765625 45.015625 23.390625 \nQ 45.015625 31 40.078125 35.4375 \nQ 35.15625 39.890625 26.703125 39.890625 \nQ 22.75 39.890625 18.8125 39.015625 \nQ 14.890625 38.140625 10.796875 36.28125 \nz\n\" id=\"DejaVuSans-53\"/>\n      </defs>\n      <g transform=\"translate(351.683665 239.238437)scale(0.1 -0.1)\">\n       <use xlink:href=\"#DejaVuSans-53\"/>\n      </g>\n     </g>\n    </g>\n   </g>\n   <g id=\"matplotlib.axis_2\">\n    <g id=\"ytick_1\">\n     <g id=\"line2d_13\">\n      <path clip-path=\"url(#p8ca02379e5)\" d=\"M 28.942188 190.743277 \nL 363.742188 190.743277 \n\" style=\"fill:none;stroke:#b0b0b0;stroke-linecap:square;stroke-width:0.8;\"/>\n     </g>\n     <g id=\"line2d_14\">\n      <defs>\n       <path d=\"M 0 0 \nL -3.5 0 \n\" id=\"mb18b2f4e98\" style=\"stroke:#000000;stroke-width:0.8;\"/>\n      </defs>\n      <g>\n       <use style=\"stroke:#000000;stroke-width:0.8;\" x=\"28.942188\" xlink:href=\"#mb18b2f4e98\" y=\"190.743277\"/>\n      </g>\n     </g>\n     <g id=\"text_7\">\n      <!-- −1 -->\n      <defs>\n       <path d=\"M 10.59375 35.5 \nL 73.1875 35.5 \nL 73.1875 27.203125 \nL 10.59375 27.203125 \nz\n\" id=\"DejaVuSans-8722\"/>\n      </defs>\n      <g transform=\"translate(7.2 194.542495)scale(0.1 -0.1)\">\n       <use xlink:href=\"#DejaVuSans-8722\"/>\n       <use x=\"83.789062\" xlink:href=\"#DejaVuSans-49\"/>\n      </g>\n     </g>\n    </g>\n    <g id=\"ytick_2\">\n     <g id=\"line2d_15\">\n      <path clip-path=\"url(#p8ca02379e5)\" d=\"M 28.942188 149.468686 \nL 363.742188 149.468686 \n\" style=\"fill:none;stroke:#b0b0b0;stroke-linecap:square;stroke-width:0.8;\"/>\n     </g>\n     <g id=\"line2d_16\">\n      <g>\n       <use style=\"stroke:#000000;stroke-width:0.8;\" x=\"28.942188\" xlink:href=\"#mb18b2f4e98\" y=\"149.468686\"/>\n      </g>\n     </g>\n     <g id=\"text_8\">\n      <!-- 0 -->\n      <g transform=\"translate(15.579688 153.267905)scale(0.1 -0.1)\">\n       <use xlink:href=\"#DejaVuSans-48\"/>\n      </g>\n     </g>\n    </g>\n    <g id=\"ytick_3\">\n     <g id=\"line2d_17\">\n      <path clip-path=\"url(#p8ca02379e5)\" d=\"M 28.942188 108.194096 \nL 363.742188 108.194096 \n\" style=\"fill:none;stroke:#b0b0b0;stroke-linecap:square;stroke-width:0.8;\"/>\n     </g>\n     <g id=\"line2d_18\">\n      <g>\n       <use style=\"stroke:#000000;stroke-width:0.8;\" x=\"28.942188\" xlink:href=\"#mb18b2f4e98\" y=\"108.194096\"/>\n      </g>\n     </g>\n     <g id=\"text_9\">\n      <!-- 1 -->\n      <g transform=\"translate(15.579688 111.993315)scale(0.1 -0.1)\">\n       <use xlink:href=\"#DejaVuSans-49\"/>\n      </g>\n     </g>\n    </g>\n    <g id=\"ytick_4\">\n     <g id=\"line2d_19\">\n      <path clip-path=\"url(#p8ca02379e5)\" d=\"M 28.942188 66.919506 \nL 363.742188 66.919506 \n\" style=\"fill:none;stroke:#b0b0b0;stroke-linecap:square;stroke-width:0.8;\"/>\n     </g>\n     <g id=\"line2d_20\">\n      <g>\n       <use style=\"stroke:#000000;stroke-width:0.8;\" x=\"28.942188\" xlink:href=\"#mb18b2f4e98\" y=\"66.919506\"/>\n      </g>\n     </g>\n     <g id=\"text_10\">\n      <!-- 2 -->\n      <g transform=\"translate(15.579688 70.718725)scale(0.1 -0.1)\">\n       <use xlink:href=\"#DejaVuSans-50\"/>\n      </g>\n     </g>\n    </g>\n    <g id=\"ytick_5\">\n     <g id=\"line2d_21\">\n      <path clip-path=\"url(#p8ca02379e5)\" d=\"M 28.942188 25.644916 \nL 363.742188 25.644916 \n\" style=\"fill:none;stroke:#b0b0b0;stroke-linecap:square;stroke-width:0.8;\"/>\n     </g>\n     <g id=\"line2d_22\">\n      <g>\n       <use style=\"stroke:#000000;stroke-width:0.8;\" x=\"28.942188\" xlink:href=\"#mb18b2f4e98\" y=\"25.644916\"/>\n      </g>\n     </g>\n     <g id=\"text_11\">\n      <!-- 3 -->\n      <g transform=\"translate(15.579688 29.444134)scale(0.1 -0.1)\">\n       <use xlink:href=\"#DejaVuSans-51\"/>\n      </g>\n     </g>\n    </g>\n   </g>\n   <g id=\"line2d_23\">\n    <path clip-path=\"url(#p8ca02379e5)\" d=\"M 44.160369 17.083636 \nL 50.501278 49.24702 \nL 56.842188 69.198234 \nL 63.183097 83.981977 \nL 69.524006 95.825016 \nL 75.864915 105.732593 \nL 82.205824 114.250719 \nL 88.546733 121.712659 \nL 94.887642 128.338978 \nL 101.228551 134.284613 \nL 107.56946 139.663457 \nL 113.910369 144.562266 \nL 120.251278 149.049026 \nL 126.592188 153.178251 \nL 132.933097 156.994487 \nL 139.274006 160.534698 \nL 145.614915 163.829962 \nL 151.955824 166.906696 \nL 158.296733 169.787559 \nL 164.637642 172.492144 \nL 170.978551 175.037507 \nL 177.31946 177.438586 \nL 183.660369 179.708526 \nL 190.001278 181.858953 \nL 196.342188 183.900186 \nL 202.683097 185.841418 \nL 209.024006 187.690866 \nL 215.364915 189.455896 \nL 221.705824 191.143125 \nL 228.046733 192.758518 \nL 234.387642 194.307458 \nL 240.728551 195.794816 \nL 247.06946 197.225009 \nL 253.410369 198.602048 \nL 259.751278 199.92958 \nL 266.092188 201.210931 \nL 272.433097 202.449134 \nL 278.774006 203.646964 \nL 285.114915 204.806959 \nL 291.455824 205.931448 \nL 297.796733 207.022565 \nL 304.137642 208.082276 \nL 310.478551 209.112387 \nL 316.81946 210.114565 \nL 323.160369 211.090345 \nL 329.501278 212.04115 \nL 335.842188 212.968291 \nL 342.183097 213.872986 \nL 348.524006 214.756364 \n\" style=\"fill:none;stroke:#1f77b4;stroke-linecap:square;stroke-width:1.5;\"/>\n   </g>\n   <g id=\"patch_3\">\n    <path d=\"M 28.942188 224.64 \nL 28.942188 7.2 \n\" style=\"fill:none;stroke:#000000;stroke-linecap:square;stroke-linejoin:miter;stroke-width:0.8;\"/>\n   </g>\n   <g id=\"patch_4\">\n    <path d=\"M 363.742188 224.64 \nL 363.742188 7.2 \n\" style=\"fill:none;stroke:#000000;stroke-linecap:square;stroke-linejoin:miter;stroke-width:0.8;\"/>\n   </g>\n   <g id=\"patch_5\">\n    <path d=\"M 28.942188 224.64 \nL 363.742188 224.64 \n\" style=\"fill:none;stroke:#000000;stroke-linecap:square;stroke-linejoin:miter;stroke-width:0.8;\"/>\n   </g>\n   <g id=\"patch_6\">\n    <path d=\"M 28.942188 7.2 \nL 363.742188 7.2 \n\" style=\"fill:none;stroke:#000000;stroke-linecap:square;stroke-linejoin:miter;stroke-width:0.8;\"/>\n   </g>\n  </g>\n </g>\n <defs>\n  <clipPath id=\"p8ca02379e5\">\n   <rect height=\"217.44\" width=\"334.8\" x=\"28.942188\" y=\"7.2\"/>\n  </clipPath>\n </defs>\n</svg>\n",
      "image/png": "[encoded data removed]"
     },
     "metadata": {
      "needs_background": "light"
     }
    }
   ],
   "source": [
    "# Prepare the data\n",
    "x = np.arange(0,5,0.1)\n",
    "print(x)\n",
    "y = f(x)\n",
    "# Plot the data\n",
    "plt.plot(x, y)\n",
    "plt.grid()\n",
    "# Show the plot\n",
    "plt.show()"
   ]
  },
  {
   "cell_type": "code",
   "execution_count": 16,
   "metadata": {},
   "outputs": [],
   "source": [
    "def interval_search(l, u, n):\n",
    "    xr = 1\n",
    "    es = 0.5*pow(10, 2-4)\n",
    "    prev_xr = 0\n",
    "    ea = 100\n",
    "    while ea > es:\n",
    "        x = numpy.linspace(l, u, n)\n",
    "        for i in range(n-1):\n",
    "            xl = x[i]\n",
    "            xu = x[i+1]\n",
    "            if f(xl) * f(xu) < 0:\n",
    "                xr = (xl+xu)/2\n",
    "                # print('found root in ({},{}) = {}'.format(xl, xu, xr))\n",
    "                l = xl\n",
    "                u = xu\n",
    "                break\n",
    "        ea = abs((xr-prev_xr)/xr) * 100\n",
    "        prev_xr = xr\n",
    "        # print('approxmate error =',ea)\n",
    "    print('found root in [{},{}] xr = {}'.format(xl, xu, xr))\n",
    "    print('approxmate error =',ea)\n"
   ]
  },
  {
   "cell_type": "code",
   "execution_count": 17,
   "metadata": {},
   "outputs": [],
   "source": [
    "def bisection(l, u):\n",
    "    xl = l\n",
    "    xu = u\n",
    "    xr = 0\n",
    "    es = 0.5*pow(10, 2-4)\n",
    "    prev_xr = 0\n",
    "    ea = 100\n",
    "    while ea > es:\n",
    "        mid = (xl+xu)/2\n",
    "        if f(xl)*f(mid) < 0:\n",
    "            xu = mid\n",
    "        else:\n",
    "            xl = mid\n",
    "        xr = (xl+xu)/2\n",
    "        # print('found root in ({},{}) = {}'.format(xl, xu, xr))\n",
    "           \n",
    "        ea = abs((xr-prev_xr)/xr) * 100\n",
    "        prev_xr = xr\n",
    "        # print('approxmate error =',ea)\n",
    "    print('found root in [{},{}] xr = {}'.format(xl, xu, xr))\n",
    "    print('approxmate error =',ea)"
   ]
  },
  {
   "cell_type": "code",
   "execution_count": 18,
   "metadata": {},
   "outputs": [],
   "source": [
    "def false_position(l, u):\n",
    "    xl = l\n",
    "    xu = u\n",
    "    xr = 0\n",
    "    es = 0.5*pow(10, 2-4)\n",
    "    prev_xr = 0\n",
    "    ea = 100\n",
    "    while ea > es:\n",
    "        # another fomula\n",
    "        # xr = xl -(xu-xl) * f(xl)/(f(xu) - f(xl))\n",
    "        xr = xu - f(xu) * ( (xu - xl) / ( f(xu) - f(xl) ) )\n",
    "        if f(xl)*f(xr) < 0:\n",
    "            xu = xr\n",
    "        else:\n",
    "            xl = xr\n",
    "        # print('found root in ({},{}) = {}'.format(xl, xu, xr))\n",
    "        ea = abs((xr-prev_xr)/xr) * 100\n",
    "        prev_xr = xr\n",
    "        # print('approxmate error =',ea)\n",
    "    print('found root in [{},{}] xr = {}'.format(xl, xu, xr))\n",
    "    print('approxmate error =',ea)"
   ]
  },
  {
   "cell_type": "code",
   "execution_count": 19,
   "metadata": {},
   "outputs": [],
   "source": [
    "def newton(f,df,x0,p):\n",
    "    es = 0.5 *(10**(2-p))\n",
    "    x = prev_x = float(x0)\n",
    "    i = 0\n",
    "    ea = 100\n",
    "    while ea > es:\n",
    "        x = x - (f(x)/df(x))\n",
    "        ea = abs((x-prev_x)/x) * 100\n",
    "        prev_x = x\n",
    "        i += 1\n",
    "    print('found root x = {}'.format(x))\n",
    "    print('approxmate error =',ea)"
   ]
  },
  {
   "cell_type": "code",
   "execution_count": 20,
   "metadata": {
    "tags": []
   },
   "outputs": [
    {
     "output_type": "stream",
     "name": "stdout",
     "text": "Interval search:\nfound root in [1.30979,1.3098] xr = 1.309795\napproxmate error = 0.0034356521440264097\nBisection:\nfound root in [1.3096923828125,1.309814453125] xr = 1.30975341796875\napproxmate error = 0.004660049396523603\nFalse position:\nfound root in [1.3098052531339606,0.8639577151564173] xr = 1.3098052531339606\napproxmate error = 0.0018628166779356367\nNewton:\nfound root x = 1.3097995858021254\napproxmate error = 0.00016913260022364605\n"
    }
   ],
   "source": [
    "print('Interval search:')\n",
    "interval_search(1,2,11)\n",
    "print('Bisection:')\n",
    "bisection(1, 2)\n",
    "print('False position:')\n",
    "false_position(2, 3)\n",
    "print('Newton:')\n",
    "newton(f,df,0.1,4)"
   ]
  },
  {
   "cell_type": "markdown",
   "metadata": {},
   "source": [
    "### 8. For function $f(x) = x^2 -ln(x) - 5$\n",
    "a. Find minimum using calculus, equal interval search, golden section search, parabolic\n",
    "interpolation\n",
    "\n",
    "\n",
    "b. Solve 𝑓(𝑥) = 0 using eye-balling methods, interval search, Newton-Raphson,\n",
    "bisection and false position. "
   ]
  },
  {
   "cell_type": "code",
   "execution_count": 21,
   "metadata": {},
   "outputs": [],
   "source": [
    "def f(x):\n",
    "    return x**2-np.log(x)-5"
   ]
  },
  {
   "cell_type": "code",
   "execution_count": 22,
   "metadata": {},
   "outputs": [],
   "source": [
    "def df(x):\n",
    "    return 2*x - (1/x)"
   ]
  },
  {
   "cell_type": "code",
   "execution_count": 23,
   "metadata": {},
   "outputs": [],
   "source": [
    "def min_interval(f,a,b,p):\n",
    "    ep = 0.1\n",
    "    ea = 100\n",
    "    es = 0.5 * 10**(2-p)\n",
    "    px = b\n",
    "    while ea > es:\n",
    "        l = (a+b)/2 + ep/2\n",
    "        u = (a+b)/2 - ep/2\n",
    "        if f(l) > f(u):\n",
    "            b = l\n",
    "        else:\n",
    "            a = u\n",
    "        xmax = (a+b)/2\n",
    "        ea = abs((xmax - px)/xmax) * 100\n",
    "        px = xmax\n",
    "    print('({},{}) xmin = {} ea = {}'.format(a,b,xmax,ea))"
   ]
  },
  {
   "cell_type": "code",
   "execution_count": 24,
   "metadata": {},
   "outputs": [],
   "source": [
    "def min_goldensearch(f,xL,xU,p):\n",
    "    phi = (1+numpy.sqrt(5))/2 \n",
    "    ea = 100\n",
    "    es = 0.5 * 10**(2-p)\n",
    "    while ea > es:\n",
    "        d = (phi - 1)*(xU-xL)\n",
    "        x1 = xL+d\n",
    "        x2 = xU-d\n",
    "        if f(x1) > f(x2):\n",
    "            xmin = x2\n",
    "            xU = x1\n",
    "        else:\n",
    "            xmin = x1\n",
    "            xL = x2\n",
    "        ea = (2-phi)*abs((xU-xL)/xmin)*100\n",
    "    print('({},{}) xmin = {} ea = {}'.format(xL,xU,xmin,ea))\n"
   ]
  },
  {
   "cell_type": "code",
   "execution_count": 25,
   "metadata": {},
   "outputs": [],
   "source": [
    "def min_parabolic(f,x1,x2,x3,p):\n",
    "    ea = 100\n",
    "    es = 0.5 * 10**(2-p)\n",
    "    px = x3\n",
    "    \n",
    "    while ea > es:\n",
    "        \n",
    "        alpha1 = (x2-x1)*(x2-x1)*(f(x2)-f(x3));\n",
    "        alpha2 = (x2-x3)*(x2-x3)*(f(x2)-f(x1));\n",
    "        beta1 = (x2-x1)*(f(x2)-f(x3));\n",
    "        beta2 = (x2-x3)*(f(x2)-f(x1));\n",
    "        \n",
    "        gamma = (alpha1 - alpha2)/(beta1 - beta2);\n",
    "        x4 = x2 - (0.5 * gamma);\n",
    "        if x4  > x2:\n",
    "            x1 = x2\n",
    "            x2 = x4 \n",
    "        else:\n",
    "            x3 = x2\n",
    "            x2 = x4\n",
    "        xopt = x4 \n",
    "        ea = abs((xopt - px)/xopt) * 100\n",
    "        px = xopt\n",
    "        # print(x1,x2,x3,x4)\n",
    "    print('({},{}) xmin = {} ea = {}'.format(x1,x2,xopt,ea))"
   ]
  },
  {
   "cell_type": "code",
   "execution_count": 26,
   "metadata": {
    "tags": []
   },
   "outputs": [
    {
     "output_type": "stream",
     "name": "stdout",
     "text": "(0.6576660156249998,0.75771484375) xmin = 0.7076904296875 ea = 0.0034498223341623423\n"
    }
   ],
   "source": [
    "min_interval(f,0.5,1.0,4)"
   ]
  },
  {
   "cell_type": "code",
   "execution_count": 27,
   "metadata": {
    "tags": []
   },
   "outputs": [
    {
     "output_type": "stream",
     "name": "stdout",
     "text": "(0.707071172864907,0.7071577080007632) xmin = 0.707104226345583 ea = 0.004674484954899666\n"
    }
   ],
   "source": [
    "min_goldensearch(f,0.5,1.0,4)"
   ]
  },
  {
   "cell_type": "code",
   "execution_count": 28,
   "metadata": {
    "tags": []
   },
   "outputs": [
    {
     "output_type": "stream",
     "name": "stdout",
     "text": "(0.6,0.7071122195936155) xmin = 0.7071122195936155 ea = 0.0020673048263764107\n"
    }
   ],
   "source": [
    "min_parabolic(f,0.5,0.6,1.0,4)"
   ]
  },
  {
   "cell_type": "code",
   "execution_count": 29,
   "metadata": {
    "tags": []
   },
   "outputs": [
    {
     "output_type": "stream",
     "name": "stdout",
     "text": "Interval search:\nfound root in [2.4261600000000003,2.42618] xr = 2.42617\napproxmate error = 0.0028852059006588366\nBisection:\nfound root in [2.4261474609375,2.42626953125] xr = 2.42620849609375\napproxmate error = 0.002515659983396644\nFalse position:\nfound root in [2.426160029809453,3] xr = 2.426160029809453\napproxmate error = 0.003832563364382484\nNewton:\nfound root x = 2.4261729308291877\napproxmate error = 0.00017479091813871558\n"
    }
   ],
   "source": [
    "print('Interval search:')\n",
    "interval_search(2.3,2.5,11)\n",
    "print('Bisection:')\n",
    "bisection(2, 3)\n",
    "print('False position:')\n",
    "false_position(2, 3)\n",
    "print('Newton:')\n",
    "newton(f,df,2.3,4)"
   ]
  },
  {
   "cell_type": "markdown",
   "metadata": {},
   "source": [
    "### 9. Matrix \n",
    " a. Use python to test whether a matrix is a zero matrix, symmetric matrix, identity\n",
    "matrix, upper triangular matrix.\n",
    "\n",
    "b. Use python to find determinant minor, cofactor, adjoint and inverse of a matrix. "
   ]
  },
  {
   "cell_type": "code",
   "execution_count": 30,
   "metadata": {},
   "outputs": [],
   "source": [
    "def is_square(a):\n",
    "    # use numpy library\n",
    "    rows, colums = a.shape\n",
    "    if rows == colums:\n",
    "        return True\n",
    "    else:\n",
    "        return False\n",
    "\n",
    "\n",
    "def is_symmetrical(a):\n",
    "    if is_square(a):\n",
    "        rows, colums = a.shape\n",
    "        for i in range(0, rows):\n",
    "            for j in range(0, colums):\n",
    "                # it's not symmectric\n",
    "                if not a[i, j] == a[j, i]:\n",
    "                    return False\n",
    "                # end if\n",
    "            # end for\n",
    "        # end for\n",
    "        return True\n",
    "    else:\n",
    "        return False\n",
    "\n",
    "\n",
    "def is_identity(a):\n",
    "    if is_diagonal(a):\n",
    "        rows, colums = a.shape\n",
    "        for i in range(0, rows):\n",
    "            for j in range(0, colums):\n",
    "                if (a[i, j] != 1 and i == j):\n",
    "                    print(i, j)\n",
    "                    return False\n",
    "                # end if\n",
    "            # end for\n",
    "        # end for\n",
    "        return True\n",
    "    else:\n",
    "        return False\n",
    "\n",
    "\n",
    "def is_zero(a):\n",
    "    rows, colums = a.shape\n",
    "    for i in range(0, rows):\n",
    "        for j in range(0, colums):\n",
    "            if a[i, j] != 0:\n",
    "                return False\n",
    "            # end if\n",
    "        # end for\n",
    "    # end for\n",
    "    return True\n",
    "\n",
    "\n",
    "def is_upper_triangle(a):\n",
    "    if not is_square(a):\n",
    "        return False\n",
    "    r,c = a.shape\n",
    "    for i in range(1,r):\n",
    "        for j in range(0,i):\n",
    "            if a[i,j] != 0:\n",
    "                return False\n",
    "            # end if\n",
    "        #end for\n",
    "    #end for\n",
    "                \n",
    "    return True"
   ]
  },
  {
   "cell_type": "code",
   "execution_count": 31,
   "metadata": {},
   "outputs": [],
   "source": [
    "a = np.matrix([\n",
    "    [1,2,3],\n",
    "    [4,5,6],\n",
    "    [7,8,9]\n",
    "])\n",
    "b = np.matrix([\n",
    "    [1,2,4,2],\n",
    "    [0,1,7,3],\n",
    "    [0,0,2,1],\n",
    "    [0,0,0,1]\n",
    "])"
   ]
  },
  {
   "cell_type": "markdown",
   "metadata": {},
   "source": [
    "# KEEP IN MIND THOSE CODE USEING ARRAY NOT MATRIX"
   ]
  },
  {
   "cell_type": "code",
   "execution_count": 32,
   "metadata": {},
   "outputs": [],
   "source": [
    "# find determinate for NxN useing recursion\n",
    "def det(a):\n",
    "    d = 0\n",
    "    if len(a) == 1 :return a[0][0]\n",
    "    else:\n",
    "        for c in range(0,len(a)):\n",
    "            temp = minor(a, 0, c)\n",
    "            d = d + (-1)**c * a[0][c] * det(temp)\n",
    "        # end loop\n",
    "        return d\n",
    "\n",
    "# minor(a,r,c) just use to find minor of n-1 x n-1\n",
    "# return in array\n",
    "def minor(a, r, c):\n",
    "    l = len(a)\n",
    "    temp = []\n",
    "    # run loop through colum \n",
    "    for j in range(l):\n",
    "            temp2 = []\n",
    "            # run loop through row\n",
    "            for i in range(len(a[0])):\n",
    "                # cut the row and colum to get minor\n",
    "                if  j != c and i != r :\n",
    "                    temp2.append(a[i][j])\n",
    "                # end if\n",
    "            # end for j\n",
    "            # if temp2 is not empty\n",
    "            if temp2:\n",
    "                temp.append(temp2)\n",
    "        #end if\n",
    "    #end for i\n",
    "    return temp   \n",
    "# find complete minor.\n",
    "def find_minor(a):\n",
    "    # normaly we have to check square matrix first.\n",
    "    m = []\n",
    "    for i in range(len(a)):\n",
    "        for j in range(len(a)):\n",
    "            # find det of small minor\n",
    "            x = det(minor(a,i,j))\n",
    "            m.append(x)\n",
    "        # end j loop\n",
    "    # end i loop\n",
    "    # return in 2d matrix.\n",
    "    return numpy.array(m).reshape(len(a),len(a))\n",
    "\n",
    "# find cofactor from complete minor\n",
    "def cofactor(a):\n",
    "    a = find_minor(a)\n",
    "    for i in range(len(a)):\n",
    "       for j in range(len(a)):\n",
    "           a[i][j] = (-1)**(i+j) * a[i][j]\n",
    "       # end j loop\n",
    "    # end i loop\n",
    "    return a\n",
    "def transpose(a):\n",
    "    rows, colums = len(a),len(a)\n",
    "    temp = numpy.empty((rows,colums),dtype=int)\n",
    "    for i in range(rows):\n",
    "        for j in range(colums):\n",
    "            temp[i][j] = a[j][i]\n",
    "        # end for\n",
    "    # end for\n",
    "    return temp\n",
    "# find adjoint from transposed matrix of the cofactor of matrix\n",
    "def adjoint(a):\n",
    "    return transpose(cofactor(a))\n",
    "\n",
    "# find inverse from adjoint/determinate\n",
    "def inverse(a):\n",
    "    # normaly check square matrix\n",
    "    # determinate must not equal 0\n",
    "    deter = det(a)\n",
    "    if deter == 0:\n",
    "        return False\n",
    "    else:\n",
    "        inv = []\n",
    "        adj = adjoint(a)\n",
    "        for i in range(len(a)):\n",
    "            temp = []\n",
    "            for j in range(len(a)):\n",
    "                temp.append(adj[i][j] / deter)\n",
    "            # end j loop\n",
    "            inv.append(temp)\n",
    "        # end i loop\n",
    "    return numpy.array(inv)"
   ]
  },
  {
   "cell_type": "code",
   "execution_count": 33,
   "metadata": {},
   "outputs": [],
   "source": [
    "a = numpy.array([\n",
    "    [3, -2, 4],\n",
    "    [-2, 6, 2],\n",
    "    [4, 2, 3],\n",
    "    ])\n",
    "b = np.matrix([\n",
    "    [3, -2, 4],\n",
    "    [-2, 6, 2],\n",
    "    [4, 2, 3],\n",
    "    ])\n"
   ]
  },
  {
   "cell_type": "code",
   "execution_count": 34,
   "metadata": {},
   "outputs": [
    {
     "output_type": "execute_result",
     "data": {
      "text/plain": "-98"
     },
     "metadata": {},
     "execution_count": 34
    }
   ],
   "source": [
    "det(a)\n",
    "#det(b) won't work "
   ]
  },
  {
   "cell_type": "markdown",
   "metadata": {},
   "source": [
    "### 10.Given a system of linear equations such as this one below, find the solution using inverse matrix, Cramer’s rule, row operation, and Gauss’s Elimination methods. "
   ]
  },
  {
   "cell_type": "markdown",
   "metadata": {},
   "source": [
    "#### inverse matrix"
   ]
  },
  {
   "cell_type": "code",
   "execution_count": 35,
   "metadata": {},
   "outputs": [],
   "source": [
    "A =np.matrix([\n",
    "    [1, 2, 1, -1],\n",
    "    [3/2, 1, 2, 2],\n",
    "    [4, 4, 3, 4],\n",
    "    [2/5, 0, 1/5,1]\n",
    "],dtype=float)\n",
    "B = np.matrix([\n",
    "    [5],[8],[22],[3]\n",
    "],dtype=float)"
   ]
  },
  {
   "cell_type": "code",
   "execution_count": 36,
   "metadata": {},
   "outputs": [],
   "source": [
    "x = np.linalg.inv(A).dot(B)"
   ]
  },
  {
   "cell_type": "code",
   "execution_count": 37,
   "metadata": {},
   "outputs": [
    {
     "output_type": "execute_result",
     "data": {
      "text/plain": "matrix([[16.],\n        [-6.],\n        [-2.],\n        [-3.]])"
     },
     "metadata": {},
     "execution_count": 37
    }
   ],
   "source": [
    "x"
   ]
  },
  {
   "cell_type": "markdown",
   "metadata": {},
   "source": [
    "### Gauss's elimination"
   ]
  },
  {
   "cell_type": "code",
   "execution_count": 38,
   "metadata": {},
   "outputs": [],
   "source": [
    "def fwd_elim(Ab):\n",
    "    Ab_re = Ab.copy()\n",
    "    [nr,nc] = Ab_re.shape\n",
    "    \n",
    "    # set i as the Iteration index\n",
    "    for i in range(1,nr):\n",
    "        print('Iteration #{}: '.format(i))\n",
    "        # set r as the row index to work on\n",
    "        for r in range(i,nr):\n",
    "            print('  working on row index {}'.format(r))\n",
    "            # iteration index represent the order of the variable that we want to eliminate\n",
    "            row_factor = Ab_re[r,i-1]/Ab_re[i-1,i-1]\n",
    "            Ab_re[r,:] = Ab_re[r,:] - Ab_re[i-1,:]*row_factor\n",
    "        #end for r\n",
    "    #end for i\n",
    "    print(Ab_re)\n",
    "    return Ab_re\n"
   ]
  },
  {
   "cell_type": "code",
   "execution_count": 39,
   "metadata": {},
   "outputs": [],
   "source": [
    "def backsub(Ab_re):\n",
    "    [nr,nc] = Ab_re.shape\n",
    "    x = np.empty(nr)\n",
    "    \n",
    "    x[nr-1] = Ab_re[nr-1,nc-1]/Ab_re[nr-1,nr-1]\n",
    "    print('x[{}] = {}'.format(nr-1,x[nr-1]))\n",
    "    \n",
    "    for r in range(nr-2,-1,-1):\n",
    "        # range (1,-1,-1) will give i = 1,0\n",
    "        # sum_of_products = sum of products of coeff of x[i+1] and x[i+1]\n",
    "        # before this\n",
    "        sum_of_products = 0\n",
    "        for c in range(r+1, nr):\n",
    "            product = Ab_re[r,c]*x[c]\n",
    "            sum_of_products = sum_of_products + product\n",
    "        #end for\n",
    "        # -,- = + \n",
    "        # -,+ = -\n",
    "        x[r] = (Ab_re[r,nc-1] - sum_of_products)/Ab_re[r,r]\n",
    "    #end for\n",
    "    return x\n",
    "#end function"
   ]
  },
  {
   "cell_type": "code",
   "execution_count": 40,
   "metadata": {},
   "outputs": [],
   "source": [
    "AB = np.append(A,B,axis=1)\n"
   ]
  },
  {
   "cell_type": "code",
   "execution_count": 41,
   "metadata": {},
   "outputs": [
    {
     "output_type": "execute_result",
     "data": {
      "text/plain": "matrix([[ 1. ,  2. ,  1. , -1. ,  5. ],\n        [ 1.5,  1. ,  2. ,  2. ,  8. ],\n        [ 4. ,  4. ,  3. ,  4. , 22. ],\n        [ 0.4,  0. ,  0.2,  1. ,  3. ]])"
     },
     "metadata": {},
     "execution_count": 41
    }
   ],
   "source": [
    "AB"
   ]
  },
  {
   "cell_type": "code",
   "execution_count": 42,
   "metadata": {
    "tags": []
   },
   "outputs": [
    {
     "output_type": "stream",
     "name": "stdout",
     "text": "Iteration #1: \n  working on row index 1\n  working on row index 2\n  working on row index 3\nIteration #2: \n  working on row index 2\n  working on row index 3\nIteration #3: \n  working on row index 3\n[[ 1.   2.   1.  -1.   5. ]\n [ 0.  -2.   0.5  3.5  0.5]\n [ 0.   0.  -2.   1.   1. ]\n [ 0.   0.   0.  -0.2  0.6]]\n"
    }
   ],
   "source": [
    "AB_re = fwd_elim(AB)"
   ]
  },
  {
   "cell_type": "code",
   "execution_count": 43,
   "metadata": {
    "tags": []
   },
   "outputs": [
    {
     "output_type": "stream",
     "name": "stdout",
     "text": "x[3] = -2.999999999999997\n"
    },
    {
     "output_type": "execute_result",
     "data": {
      "text/plain": "array([16., -6., -2., -3.])"
     },
     "metadata": {},
     "execution_count": 43
    }
   ],
   "source": [
    "backsub(AB_re)"
   ]
  },
  {
   "cell_type": "markdown",
   "metadata": {},
   "source": [
    "### Cramer_rule"
   ]
  },
  {
   "cell_type": "code",
   "execution_count": 44,
   "metadata": {},
   "outputs": [],
   "source": [
    "def Cramer_rule(A,B):\n",
    "    size = A.shape\n",
    "    ans = np.empty(size[0])\n",
    "    for i in range(size[0]):\n",
    "        ax = A.copy()\n",
    "        ax[:,i] = B\n",
    "        ans[i] = np.linalg.det(ax)/np.linalg.det(A)\n",
    "    print(ans)"
   ]
  },
  {
   "cell_type": "code",
   "execution_count": 45,
   "metadata": {
    "tags": []
   },
   "outputs": [
    {
     "output_type": "stream",
     "name": "stdout",
     "text": "[16. -6. -2. -3.]\n"
    }
   ],
   "source": [
    "Cramer_rule(A,B)"
   ]
  },
  {
   "cell_type": "markdown",
   "metadata": {},
   "source": [
    "### row operation\n",
    "\n",
    "Do it by yourself(indian accent)"
   ]
  },
  {
   "cell_type": "code",
   "execution_count": 46,
   "metadata": {
    "tags": []
   },
   "outputs": [
    {
     "output_type": "stream",
     "name": "stdout",
     "text": "[[ 1.   2.   1.  -1.   5. ]\n [ 3.   2.   4.   4.  16. ]\n [ 4.   4.   3.   4.  22. ]\n [ 0.4  0.   0.2  1.   3. ]]\n[[ 1.  2.  1. -1.  5.]\n [ 3.  2.  4.  4. 16.]\n [ 4.  4.  3.  4. 22.]\n [ 2.  0.  1.  5. 15.]]\n[[ 0. -4.  1.  7.  1.]]\n[[ 1.  2.  1. -1.  5.]\n [ 3.  2.  4.  4. 16.]\n [ 4.  4.  3.  4. 22.]\n [ 2.  0.  1.  5. 15.]\n [ 0. -4.  1.  7.  1.]]\n[[ 0.  4.  1. -6. -8.]]\n[[ 1.  2.  1. -1.  5.]\n [ 3.  2.  4.  4. 16.]\n [ 4.  4.  3.  4. 22.]\n [ 2.  0.  1.  5. 15.]\n [ 0. -4.  1.  7.  1.]\n [ 0.  4.  1. -6. -8.]]\n[[ 0.  0.  2.  1. -7.]]\n[[ 1.  2.  1. -1.  5.]\n [ 3.  2.  4.  4. 16.]\n [ 4.  4.  3.  4. 22.]\n [ 2.  0.  1.  5. 15.]\n [ 0. -4.  1.  7.  1.]\n [ 0.  4.  1. -6. -8.]\n [ 0.  0.  2.  1. -7.]]\n[[ 0. -4. -1.  7.  5.]]\n[[ 1.  2.  1. -1.  5.]\n [ 3.  2.  4.  4. 16.]\n [ 4.  4.  3.  4. 22.]\n [ 2.  0.  1.  5. 15.]\n [ 0. -4.  1.  7.  1.]\n [ 0.  4.  1. -6. -8.]\n [ 0.  0.  2.  1. -7.]\n [ 0. -4. -1.  7.  5.]]\n[[ 0.  0.  0.  1. -3.]]\n[[ 1.  2.  1. -1.  5.]\n [ 3.  2.  4.  4. 16.]\n [ 4.  4.  3.  4. 22.]\n [ 2.  0.  1.  5. 15.]\n [ 0. -4.  1.  7.  1.]\n [ 0.  4.  1. -6. -8.]\n [ 0.  0.  2.  1. -7.]\n [ 0. -4. -1.  7.  5.]\n [ 0.  0.  0.  1. -3.]]\n[[ 0.  0.  1.  0. -2.]]\n[[ 1.  2.  1. -1.  5.]\n [ 3.  2.  4.  4. 16.]\n [ 4.  4.  3.  4. 22.]\n [ 2.  0.  1.  5. 15.]\n [ 0. -4.  1.  7.  1.]\n [ 0.  4.  1. -6. -8.]\n [ 0.  0.  2.  1. -7.]\n [ 0. -4. -1.  7.  5.]\n [ 0.  0.  0.  1. -3.]\n [ 0.  0.  1.  0. -2.]]\n[[ 0.  1.  0.  0. -6.]]\n[[ 1.  2.  1. -1.  5.]\n [ 3.  2.  4.  4. 16.]\n [ 4.  4.  3.  4. 22.]\n [ 2.  0.  1.  5. 15.]\n [ 0. -4.  1.  7.  1.]\n [ 0.  4.  1. -6. -8.]\n [ 0.  0.  2.  1. -7.]\n [ 0. -4. -1.  7.  5.]\n [ 0.  0.  0.  1. -3.]\n [ 0.  0.  1.  0. -2.]\n [ 0.  1.  0.  0. -6.]]\n[[ 1.  0.  0.  0. 16.]]\n[[ 1.  2.  1. -1.  5.]\n [ 3.  2.  4.  4. 16.]\n [ 4.  4.  3.  4. 22.]\n [ 2.  0.  1.  5. 15.]\n [ 0. -4.  1.  7.  1.]\n [ 0.  4.  1. -6. -8.]\n [ 0.  0.  2.  1. -7.]\n [ 0. -4. -1.  7.  5.]\n [ 0.  0.  0.  1. -3.]\n [ 0.  0.  1.  0. -2.]\n [ 0.  1.  0.  0. -6.]\n [ 1.  0.  0.  0. 16.]]\n"
    }
   ],
   "source": [
    "A =np.matrix([\n",
    "    [1, 2, 1, -1],\n",
    "    [3/2, 1, 2, 2],\n",
    "    [4, 4, 3, 4],\n",
    "    [2/5, 0, 1/5,1]\n",
    "],dtype=float)\n",
    "B = np.matrix([\n",
    "    [5],\n",
    "    [8],\n",
    "    [22],\n",
    "    [3]\n",
    "],dtype=float)\n",
    "M = np.append(A,B,axis=1)\n",
    "\n",
    "M[1,:] = M[1,:]*2\n",
    "print(M)\n",
    "M[3,:] = M[3,:]*5\n",
    "print(M)\n",
    "eq5 = M[1,:] - (M[0,:]*3)\n",
    "print(eq5)\n",
    "M = np.append(M,eq5,axis=0)\n",
    "print(M)\n",
    "eq6 = M[2,:] - (M[3,:]*2)\n",
    "print(eq6)\n",
    "M = np.append(M,eq6,axis=0)\n",
    "print(M)\n",
    "eq7 = M[5,:] + M[4,:]\n",
    "print(eq7)\n",
    "M = np.append(M,eq7,axis=0)\n",
    "print(M)\n",
    "eq8 = M[3,:] - (M[0,:]*2)\n",
    "print(eq8)\n",
    "M = np.append(M,eq8,axis=0)\n",
    "print(M)\n",
    "eq9 = M[7,:] + M[5,:]\n",
    "print(eq9)\n",
    "M = np.append(M,eq9,axis=0)\n",
    "print(M)\n",
    "eq10 = M[6,:] - M[8,:]\n",
    "eq10 = eq10/2\n",
    "print(eq10)\n",
    "M = np.append(M,eq10,axis=0)\n",
    "print(M)\n",
    "eq11 = M[4,:] - (M[8,:]*7)\n",
    "eq11 = eq11 - M[9,:]\n",
    "eq11 = (-1)*(eq11/4)\n",
    "print(eq11)\n",
    "M = np.append(M,eq11,axis=0)\n",
    "print(M)\n",
    "eq12 = M[0,:] + M[8,:]\n",
    "eq12 = eq12 - M[9,:]\n",
    "eq12 = eq12 - (2*M[10,:])\n",
    "print(eq12)\n",
    "M = np.append(M,eq12,axis=0)\n",
    "print(M)"
   ]
  },
  {
   "cell_type": "markdown",
   "metadata": {},
   "source": [
    "### 11 .Write a python program to\n",
    "$$\n",
    "y(t) = y_i + v_{iy}t + \\frac{1}{2}gt^2 \n",
    "$$\n",
    "$$ where \\quad y_i = 10 m,\\quad v_{iy} = 60 m/s,\\quad and\\quad g = 9.8 m/s^2 $$  \n",
    "a. find the highest point and the time to reach the highest point of a ball throwing like\n",
    "\n",
    "a projectile motion with the following relationship"
   ]
  },
  {
   "cell_type": "code",
   "execution_count": null,
   "metadata": {},
   "outputs": [],
   "source": []
  },
  {
   "cell_type": "markdown",
   "metadata": {},
   "source": [
    "### 12. In order to run a school, the school has to pay fixed cost of 500,000 baht a month for electricity, water, Internet and building maintenance. The school also pays 40,000 baht per student per year for computing services, software licenses, paper, and class equipment. An instructor is also needed for every 20 students which a salary of 20,000 baht per month. How many students should be accepted for the school to break even in a year? If the tuition fee of a student is 70,000 baht \n",
    "**Since one instructor is needed for every 20 students, if there are more than 20 students, more than one instructors will be needed.**"
   ]
  },
  {
   "cell_type": "code",
   "execution_count": 47,
   "metadata": {},
   "outputs": [],
   "source": [
    "student = -1\n",
    "fixed_cost  = 500000 *12 #per year\n",
    "equipment = 40000*student*12 #per year\n",
    "Instructor = 20000*12 #per year\n",
    "fee_student = 70000 # per year?\n"
   ]
  },
  {
   "cell_type": "markdown",
   "metadata": {},
   "source": [
    "### 13.Write a python program to calculate the electricity bill \n",
    "based on the following calculation table (https://www.mea.or.th/en/profile/109/111). The input is the used energy by\n",
    "customer, the output is the charge for each progression block. Test your work at\n",
    "(https://www.mea.or.th/en/aboutelectric/116/280/form/11)"
   ]
  },
  {
   "cell_type": "code",
   "execution_count": 48,
   "metadata": {
    "tags": []
   },
   "outputs": [
    {
     "output_type": "stream",
     "name": "stdout",
     "text": "Customer used Energy           :     10.00    KWh/Month\nFt                             :    -12.43    Satang/KWh\n======================================================\nFree บ้านคุนพี่จุดเทียนหรอค่ะ\n"
    }
   ],
   "source": [
    "# ทศนิยมมันเพ้ียนๆ คิดแบบผสม(binocalculate) รุ้จักป่าว55555\n",
    "useg = float(input('Customer used Energy: '))  #kw\n",
    "Ft = -12.43 # s/kw\n",
    "sum = 0\n",
    "charge = (useg*Ft)/100 #bath\n",
    "print('Customer used Energy           :   {:7.2f}    KWh/Month'.format(useg))\n",
    "print('Ft                             :   {:7.2f}    Satang/KWh'.format(Ft))\n",
    "print(\"======================================================\")\n",
    "if useg<=50:\n",
    "    print('Free บ้านคุนพี่จุดเทียนหรอค่ะ')\n",
    "    \n",
    "else:\n",
    "    print('Section 1 Base Tariff')\n",
    "    print('First 15 kWh ( 1st – 15th)     :   {:7.2f}    Bath'.format(35.23))\n",
    "    print('Next  10 kWh (16th – 15th)     :   {:7.2f}    Bath'.format(29.88))\n",
    "    print('Next  10 kWh (26th – 35th)     :   {:7.2f}    Bath'.format(32.41))\n",
    "    if useg>=36 and useg<100:\n",
    "        sum = (useg-35)*3.6237+32.41+29.88+35.23\n",
    "        print('Next  65 kWh (36th – 100th)    :   {:7.2f}    Bath'.format(sum))\n",
    "    elif useg>=101 and useg<150:\n",
    "        sum = 235.54\n",
    "        print('Next  65 kWh (36th – 100th)    :    {:7.2f}   Bath'.format(sum))\n",
    "        sum = (useg-100)*3.7171+235.54+32.41+29.88+35.23\n",
    "        print('Next  50 kWh (101th – 150th)   :    {:7.2f}   Bath'.format(sum))\n",
    "    elif useg>=151 and useg<400:\n",
    "        sum = 235.54\n",
    "        print('Next  65 kWh (36th – 100th)    :    {:7.2f}   Bath'.format(sum))\n",
    "        sum = 185.86\n",
    "        print('Next  50 kWh (101th – 150th)   :    {:7.2f}   Bath'.format(sum))\n",
    "        sum = (useg-150)*4.2218+185.56+235.54+32.41+29.88+35.23\n",
    "        print('Next  250 kWh (151th – 400th)  :   {:7.2f}   Bath'.format(sum))\n",
    "    elif  useg>=401:\n",
    "        sum = 235.54\n",
    "        print('Next  65 kWh (36th – 100th)    :    {:7.2f}   Bath'.format(sum))\n",
    "        sum = 185.86\n",
    "        print('Next  50 kWh (101th – 150th)   :    {:7.2f}   Bath'.format(sum))\n",
    "        sum = 1055.45\n",
    "        print('Next  250 kWh (151th – 400th)  :   {:7.2f}   Bath'.format(sum))\n",
    "        x = useg%400\n",
    "        sum = (useg-400)*4.4217+1055.45+185.56+235.54+32.41+29.88+35.23\n",
    "        print('Over  400 kWh (up from 401st)  :   {:7.2f}    Bath'.format((useg-400)*4.4217))\n",
    "    \n",
    "    print(\"======================================================\")\n",
    "    print('Total                          :   {:7.2f}    Bath'.format(sum))\n",
    "    print('Service Charge                 :   {:7.2f}    Bath'.format(8.19))\n",
    "    print()\n",
    "    print('Total Base Tariff              :   {:7.2f}    Bath'.format(sum+8.19))\n",
    "    print(\"======================================================\")\n",
    "    print('Section 2 [Ft] Charge')\n",
    "    print('Used Energy x Ftrate           :   {:7.2f}    Bath'.format((useg*Ft)/100))\n",
    "    print()\n",
    "    print(\"======================================================\")\n",
    "    print('Section 3 Tax 7%')\n",
    "    print('|Base Tariff + Ft| x 0.07      :   {:7.2f}    Bath'.format( (((sum+8.19)+(useg*Ft)/100))*0.07) )\n",
    "    print()\n",
    "    print('Total Electricity Charge       :   {:7.2f}    Bath'.format(+((sum+8.19) + ((useg*Ft)/100)) + (((sum+8.19)+(useg*Ft)/100))*0.07))\n",
    "    print(\"======================================================\")"
   ]
  },
  {
   "cell_type": "markdown",
   "metadata": {},
   "source": [
    "### 14.Write a program that calculates each monthly payment for a customer of a car dealer.\n",
    "The program will accept the following inputs: car price, annual interest rate, number of\n",
    "years for payment, down payment percentage (usually around 25% of car price), and\n",
    "repayment amount (a fixed monthly payment usually around 20 – 50% of monthly\n",
    "salary or around 2-5% of car price). The output will be the amount of principal left,\n",
    "interest paid per month, and amount of principal paid per month. For example,\n",
    "consider a car loan of 1 million baht with 3% interest rate per year with 25% down\n",
    "payment and 15,000 baht fixed monthly repayment for 5 years. See example of loan\n",
    "payment calculation here: https://www.savings.com.au/car-loans/how-is-interestcalculated "
   ]
  },
  {
   "cell_type": "code",
   "execution_count": 49,
   "metadata": {},
   "outputs": [],
   "source": [
    "#ไม่ทำแล้วจะไปการไฟฟ้า"
   ]
  },
  {
   "cell_type": "code",
   "execution_count": null,
   "metadata": {},
   "outputs": [],
   "source": []
  }
 ],
 "metadata": {
  "kernelspec": {
   "name": "Python 3.8.4 64-bit",
   "display_name": "Python 3.8.4 64-bit",
   "metadata": {
    "interpreter": {
     "hash": "31f2aee4e71d21fbe5cf8b01ff0e069b9275f58929596ceb00d14d90e3e16cd6"
    }
   }
  },
  "language_info": {
   "codemirror_mode": {
    "name": "ipython",
    "version": 3
   },
   "file_extension": ".py",
   "mimetype": "text/x-python",
   "name": "python",
   "nbconvert_exporter": "python",
   "pygments_lexer": "ipython3",
   "version": "3.8.4-final"
  }
 },
 "nbformat": 4,
 "nbformat_minor": 2
}